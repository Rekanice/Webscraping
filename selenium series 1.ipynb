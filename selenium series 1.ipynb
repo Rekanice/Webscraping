{
 "cells": [
  {
   "cell_type": "code",
   "execution_count": 3,
   "metadata": {
    "scrolled": false
   },
   "outputs": [
    {
     "name": "stdout",
     "output_type": "stream",
     "text": [
      "Collecting selenium\n",
      "  Downloading https://files.pythonhosted.org/packages/80/d6/4294f0b4bce4de0abf13e17190289f9d0613b0a44e5dd6a7f5ca98459853/selenium-3.141.0-py2.py3-none-any.whl (904kB)\n",
      "Requirement already satisfied: urllib3 in c:\\users\\jason\\appdata\\roaming\\python\\python37\\site-packages (from selenium) (1.25.6)\n",
      "Installing collected packages: selenium\n",
      "Successfully installed selenium-3.141.0\n"
     ]
    },
    {
     "name": "stderr",
     "output_type": "stream",
     "text": [
      "You are using pip version 19.0.3, however version 20.2.3 is available.\n",
      "You should consider upgrading via the 'python -m pip install --upgrade pip' command.\n"
     ]
    }
   ],
   "source": [
    "!pip install selenium"
   ]
  },
  {
   "cell_type": "markdown",
   "metadata": {},
   "source": [
    "## Start here, boi!"
   ]
  },
  {
   "cell_type": "code",
   "execution_count": 2,
   "metadata": {
    "scrolled": true
   },
   "outputs": [],
   "source": [
    "# start from here for non-first-timers\n",
    "from selenium import webdriver\n",
    "import time"
   ]
  },
  {
   "cell_type": "code",
   "execution_count": 10,
   "metadata": {},
   "outputs": [
    {
     "data": {
      "text/plain": [
       "'C:\\\\Users\\\\Jason\\\\Anaconda3'"
      ]
     },
     "execution_count": 10,
     "metadata": {},
     "output_type": "execute_result"
    }
   ],
   "source": [
    "# to find the PATH (current focus) to paste the webdriver file there\n",
    "import os\n",
    "import sys\n",
    "os.path.dirname(sys.executable)"
   ]
  },
  {
   "cell_type": "markdown",
   "metadata": {},
   "source": [
    "The  Selenium  library  is  an  API  called  on  the  object  WebDriver.  The  WebDriver  is  abit  like  a  browser  in  that  it  can  load  websites,  but  it  can  also  be  used  like  a  BeautifulSoup  object  to  find  page  elements,  interact  with  elements  on  the  page  (send  text,click, etc.)"
   ]
  },
  {
   "cell_type": "code",
   "execution_count": 14,
   "metadata": {},
   "outputs": [
    {
     "name": "stdout",
     "output_type": "stream",
     "text": [
      "Facebook membantu anda untuk berhubung dan berkongsi dengan orang dalam hidup anda.\n",
      "Log Masuk\n",
      "Terlupa Kata Laluan?\n",
      "Cipta Akaun Baru\n",
      "Cipta Halaman untuk selebriti, kumpulan muzik atau perniagaan.\n"
     ]
    }
   ],
   "source": [
    "# source: https://medium.com/@shanyitan/how-to-install-selenium-and-run-it-successfully-via-jupyter-lab-c3f50d22a0d4\n",
    "\n",
    "from time import sleep\n",
    "from selenium import webdriver # this is tested on Firefox or you can use \"webdriver.Chrome()\"\n",
    "\n",
    "browser = webdriver.Firefox()\n",
    "browser.get('https://www.facebook.com/') #note that firefox didnt pop out here bcos jupyter is cloud computing\n",
    "sleep(5) # sleep the code to let the page load\n",
    "print(browser.find_element_by_id('content').text)\n",
    "browser.close()"
   ]
  },
  {
   "cell_type": "code",
   "execution_count": 13,
   "metadata": {},
   "outputs": [
    {
     "name": "stdout",
     "output_type": "stream",
     "text": [
      "Here is some important text you want to retrieve!\n",
      "A button to click!\n"
     ]
    }
   ],
   "source": [
    "driver=webdriver.Firefox()\n",
    "driver.get('http://pythonscraping.com/pages/javascript/ajaxDemo.html')\n",
    "time.sleep(3)\n",
    "print(driver.find_element_by_id('content').text)\n",
    "driver.close()"
   ]
  },
  {
   "cell_type": "markdown",
   "metadata": {},
   "source": [
    "## Selenium Selectors\n",
    "\n",
    "```\n",
    "driver.find_element_by_id('content').text \\\n",
    "driver.find_element_by_css_selector('#content') \\\n",
    "driver.find_element_by_tag_name('div') \n",
    "```\n",
    "\n",
    "Returns a list: \\\n",
    "```\n",
    "driver.find_elements_by_tag_name('div')\n",
    "```\n",
    "\n",
    "To use Beautiful Soup, use webdriver page source function: \\\n",
    "```\n",
    "pageSource = driver.page_source #returns page source at that instance \\\n",
    "bs = BeautifulSoup(pageSource,'html.parser') \\\n",
    "print(bs.find(id='content').get_text())\n",
    "```"
   ]
  },
  {
   "cell_type": "markdown",
   "metadata": {},
   "source": [
    "## Waiting for loading efficiently - wait until element appears\n",
    "\n",
    "Although  this  solution  works,  it  is  somewhat  inefficient,  and  implementing  it  couldcause  problems  on  a  large  scale.  Page-load  times  are  inconsistent,  depending  on  the server load at any particular millisecond, and natural variations occur in connection speed. Although this page load should take just over two seconds, you’re giving it anentire  three  seconds  to  make  sure  that  it  loads  completely. **A  more  efficient  solution would  repeatedly  check  for  the  existence  of  a  particular  element  on  a  fully  loaded page and return only when that element exists.** "
   ]
  },
  {
   "cell_type": "code",
   "execution_count": 17,
   "metadata": {},
   "outputs": [
    {
     "name": "stdout",
     "output_type": "stream",
     "text": [
      "Here is some important text you want to retrieve!\n",
      "A button to click!\n"
     ]
    }
   ],
   "source": [
    "from selenium import webdriver\n",
    "from selenium.webdriver.common.by import By\n",
    "from selenium.webdriver.support.ui import WebDriverWait\n",
    "from selenium.webdriver.support import expected_conditions as EC\n",
    "\n",
    "driver = webdriver.Firefox()\n",
    "driver.get('http://pythonscraping.com/pages/javascript/ajaxDemo.html')\n",
    "\n",
    "try:\n",
    "    element = WebDriverWait(driver,10).until(EC.presence_of_element_located((By.ID,'loadedButton')))\n",
    "\n",
    "finally:\n",
    "    print(driver.find_element_by_id('content').text)\n",
    "    \n",
    "driver.close()"
   ]
  },
  {
   "cell_type": "markdown",
   "metadata": {},
   "source": [
    " WebDriverWait and expected_conditions both combine to give conditional timing. Stop when uget what u r looking for. \\\n",
    " A locator is used to find elements with the ID loadedButton"
   ]
  },
  {
   "cell_type": "markdown",
   "metadata": {},
   "source": [
    "### About locators\n",
    "In the following code, a locator is used to find elements with the ID loadedButton:<br> ```EC.presence_of_element_located((By.ID,'loadedButton'))```\n",
    "\n",
    "Locators  can  also  be  used  to  create  selectors,  using  the  <br> ```find_elementWebDriverfunction:print(driver.find_element(By.ID,'content').text)```\n",
    "\n",
    "That is, of course, functionally equivalent to the line in the example code:<br>\n",
    "```print(driver.find_element_by_id('content').text)```"
   ]
  },
  {
   "cell_type": "markdown",
   "metadata": {},
   "source": [
    " class selenium.webdriver.common.by.By\n",
    "\n",
    "    Set of supported locator strategies.\n",
    "\n",
    "    CLASS_NAME = 'class name'\n",
    "\n",
    "    CSS_SELECTOR = 'css selector'\n",
    "\n",
    "    ID = 'id'\n",
    "\n",
    "    LINK_TEXT = 'link text'\n",
    "\n",
    "    NAME = 'name'\n",
    "\n",
    "    PARTIAL_LINK_TEXT = 'partial link text'¶\n",
    "\n",
    "    TAG_NAME = 'tag name'\n",
    "\n",
    "    XPATH = 'xpath'"
   ]
  },
  {
   "cell_type": "markdown",
   "metadata": {},
   "source": [
    "## Handling redirects\n",
    "Client-side  redirects  are  page  redirects  that  are  executed  in  your  browser  by  Java‐Script, rather than a redirect performed on the server, before the page content is sent.\n",
    "\n",
    "So, how are we going to get the final redirected landing page (not the off-boarding page) ?"
   ]
  },
  {
   "cell_type": "markdown",
   "metadata": {},
   "source": [
    "1. Keep watch on an **element that disappears** after page redirects \\\n",
    "You  can  detect  that  redirect  in  a  clever  way  by  “watching”  an  element  in  the  DOM when the page initially loads, and then repeatedly calling that element until Selenium throws a StaleElementReferenceException; the element is no longer attached to the page’s DOM and the site has redirected"
   ]
  },
  {
   "cell_type": "code",
   "execution_count": 2,
   "metadata": {},
   "outputs": [
    {
     "name": "stdout",
     "output_type": "stream",
     "text": [
      "Timing out after 10 seconds and returning\n",
      "<html><head>\n",
      "<title>The Destination Page!</title>\n",
      "\n",
      "</head>\n",
      "<body>\n",
      "This is the page you are looking for!\n",
      "\n",
      "</body></html>\n"
     ]
    }
   ],
   "source": [
    "from selenium import webdriver\n",
    "import time \n",
    "from selenium.webdriver.remote.webelement import WebElement \n",
    "from selenium.common.exceptions import StaleElementReferenceException\n",
    "\n",
    "def waitForLoad(driver):\n",
    "    elem = driver.find_element_by_tag_name(\"html\")\n",
    "    count = 0\n",
    "    while True:\n",
    "        count += 1\n",
    "        if count > 20:\n",
    "            print('Timing out after 10 seconds and returning')\n",
    "            return\n",
    "        time.sleep(.5)\n",
    "        try: \n",
    "            elem == driver.find_element_by_tag_name('html')\n",
    "        \n",
    "        except StaleElementReferenceException:\n",
    "            return \n",
    "\n",
    "driver = webdriver.Firefox()\n",
    "driver.get('http://pythonscraping.com/pages/javascript/redirectDemo1.html')\n",
    "waitForLoad(driver)\n",
    "print(driver.page_source)"
   ]
  },
  {
   "cell_type": "markdown",
   "metadata": {},
   "source": [
    "2. Keep watch for an **element to appear** \\\n",
    "Use a loop to check the current URL of the page until the URL changes, or it matches a specific URL that you’re looking for."
   ]
  },
  {
   "cell_type": "code",
   "execution_count": 5,
   "metadata": {},
   "outputs": [
    {
     "name": "stdout",
     "output_type": "stream",
     "text": [
      "This is the page you are looking for!\n"
     ]
    }
   ],
   "source": [
    "from selenium.webdriver.common.by import By\n",
    "from selenium.webdriver.support.ui import WebDriverWait \n",
    "from selenium.webdriver.support import expected_conditions as EC \n",
    "from selenium.common.exceptions import TimeoutException \n",
    "\n",
    "driver=webdriver.Firefox()\n",
    "driver.get('http://pythonscraping.com/pages/javascript/redirectDemo1.html')\n",
    "\n",
    "try:\n",
    "    bodyElement = WebDriverWait(driver,15).until(EC.presence_of_element_located((By.XPATH,'//body[contains(text(), \"This is the page you are looking for!\")]')))\n",
    "    print(bodyElement.text)\n",
    "                                                                                 \n",
    "except TimeoutException:\n",
    "    print('Did not find the element')"
   ]
  },
  {
   "cell_type": "code",
   "execution_count": null,
   "metadata": {},
   "outputs": [],
   "source": []
  }
 ],
 "metadata": {
  "kernelspec": {
   "display_name": "Python 3",
   "language": "python",
   "name": "python3"
  },
  "language_info": {
   "codemirror_mode": {
    "name": "ipython",
    "version": 3
   },
   "file_extension": ".py",
   "mimetype": "text/x-python",
   "name": "python",
   "nbconvert_exporter": "python",
   "pygments_lexer": "ipython3",
   "version": "3.7.4"
  }
 },
 "nbformat": 4,
 "nbformat_minor": 2
}
