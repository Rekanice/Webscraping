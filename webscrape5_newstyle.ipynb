{
 "cells": [
  {
   "cell_type": "markdown",
   "metadata": {},
   "source": [
    "# <img style=\"float: left; padding-right: 10px; width: 45px\" src=\"https://raw.githubusercontent.com/Harvard-IACS/2018-CS109A/master/content/styles/iacs.png\"> CS109A Introduction to Data Science\n",
    "\n",
    "## Standard Section 1: Introduction to Web Scraping\n",
    "\n",
    "**Harvard University**<br/>\n",
    "**Fall 2018**<br/>\n",
    "**Instructors**: Pavlos Protopapas and Kevin Rader<br/>\n",
    "**Section Leaders**: Cecilia Garraffo, Mehul Smriti Raje, Ken Arnold, Karan Motwani<br/>\n",
    "\n",
    "<hr>"
   ]
  },
  {
   "cell_type": "code",
   "execution_count": 108,
   "metadata": {},
   "outputs": [
    {
     "data": {
      "text/html": [
       "<style>\n",
       "blockquote { background: #AEDE94; }\n",
       "h1 { \n",
       "    padding-top: 25px;\n",
       "    padding-bottom: 25px;\n",
       "    text-align: left; \n",
       "    padding-left: 10px;\n",
       "    background-color: #DDDDDD; \n",
       "    color: black;\n",
       "}\n",
       "h2 { \n",
       "    padding-top: 10px;\n",
       "    padding-bottom: 10px;\n",
       "    text-align: left; \n",
       "    padding-left: 5px;\n",
       "    background-color: #EEEEEE; \n",
       "    color: black;\n",
       "}\n",
       "\n",
       "div.exercise {\n",
       "\tbackground-color: #ffcccc;\n",
       "\tborder-color: #E9967A; \t\n",
       "\tborder-left: 5px solid #800080; \n",
       "\tpadding: 0.5em;\n",
       "}\n",
       "\n",
       "span.sub-q {\n",
       "\tfont-weight: bold;\n",
       "}\n",
       "div.theme {\n",
       "\tbackground-color: #DDDDDD;\n",
       "\tborder-color: #E9967A; \t\n",
       "\tborder-left: 5px solid #800080; \n",
       "\tpadding: 0.5em;\n",
       "\tfont-size: 18pt;\n",
       "}\n",
       "div.gc { \n",
       "\tbackground-color: #AEDE94;\n",
       "\tborder-color: #E9967A; \t \n",
       "\tborder-left: 5px solid #800080; \n",
       "\tpadding: 0.5em;\n",
       "\tfont-size: 12pt;\n",
       "}\n",
       "p.q1 { \n",
       "    padding-top: 5px;\n",
       "    padding-bottom: 5px;\n",
       "    text-align: left; \n",
       "    padding-left: 5px;\n",
       "    background-color: #EEEEEE; \n",
       "    color: black;\n",
       "}\n",
       "header {\n",
       "   padding-top: 35px;\n",
       "    padding-bottom: 35px;\n",
       "    text-align: left; \n",
       "    padding-left: 10px;\n",
       "    background-color: #DDDDDD; \n",
       "    color: black;\n",
       "}\n",
       "</style>\n",
       "\n"
      ],
      "text/plain": [
       "<IPython.core.display.HTML object>"
      ]
     },
     "execution_count": 108,
     "metadata": {},
     "output_type": "execute_result"
    }
   ],
   "source": [
    "#RUN THIS CELL \n",
    "import requests\n",
    "from IPython.core.display import HTML\n",
    "styles = requests.get(\"http://raw.githubusercontent.com/Harvard-IACS/2018-CS109A/master/content/styles/cs109.css\").text\n",
    "HTML(styles)"
   ]
  },
  {
   "cell_type": "markdown",
   "metadata": {},
   "source": [
    "---"
   ]
  },
  {
   "cell_type": "markdown",
   "metadata": {},
   "source": [
    "When we're done today, you will approach messy real-world data with confidence that you can get it into a format that you can manipulate.\n",
    "\n",
    "Specifically, our learning objectives are:\n",
    "* Understand the structure of an HTML document and use that structure to extract desired information\n",
    "* Use Python data structures such as lists, dictionaries, and Pandas DataFrames to store and manipulate information\n",
    "* Identify some other (semi-)structured formats commonly used for storing and transferring data, such as JSON and CSV\n",
    "* Practice using [Python](https://docs.python.org/3.6/) packages such as [BeautifulSoup](https://www.crummy.com/software/BeautifulSoup/bs4/doc/) and [Pandas](https://pandas.pydata.org/pandas-docs/stable/), including how to navigate their documentation to find functionality."
   ]
  },
  {
   "cell_type": "code",
   "execution_count": 109,
   "metadata": {},
   "outputs": [],
   "source": [
    "%matplotlib inline\n",
    "import numpy as np\n",
    "import matplotlib.pyplot as plt\n",
    "import pandas as pd\n",
    "import seaborn as sns\n",
    "sns.set_style(\"whitegrid\")\n",
    "sns.set_context(\"notebook\")\n",
    "\n",
    "import requests\n",
    "from bs4 import BeautifulSoup\n",
    "from IPython.display import HTML"
   ]
  },
  {
   "cell_type": "code",
   "execution_count": 110,
   "metadata": {},
   "outputs": [],
   "source": [
    "# Setting up 'requests' to make HTTPS requests properly takes some extra steps... we'll skip them for now.\n",
    "requests.packages.urllib3.disable_warnings()"
   ]
  },
  {
   "cell_type": "markdown",
   "metadata": {},
   "source": [
    "## Our goals today"
   ]
  },
  {
   "cell_type": "markdown",
   "metadata": {},
   "source": [
    "Is science becoming more collaborative over time? How about literature? Are there a few \"geniuses\" or lots of hard workers? One way we might answer those questions is by looking at Nobel Prizes. We could ask questions like:\n",
    "\n",
    "* How has the number of recipients per award changed over time?\n",
    "* Has anyone won a prize more than once?\n",
    "\n",
    "To answer these questions, we'll need data: *who* received *what* award *when*. \n",
    "\n",
    "Before we dive into acquiring this data the way we've been teaching in class, let's pause to ask: **what are 5 different approaches we could take to acquiring Nobel Prize data**?\n",
    "\n",
    "\n",
    "\n"
   ]
  },
  {
   "cell_type": "markdown",
   "metadata": {},
   "source": [
    "## Ingesting data (and what is JSON?)"
   ]
  },
  {
   "cell_type": "markdown",
   "metadata": {},
   "source": [
    "Turns out that https://www.nobelprize.org/prizes/lists/all-nobel-prizes/ has the data we want. But the `nobelprize.org` server is a little slow sometimes. Fortunately, the Internet Archive periodically crawls most of the Internet and saves what it finds. (That's a lot of data!) So let's grab the data from the Archive's \"Wayback Machine\" (great name!).\n",
    "\n",
    "We could go to http://archive.org, search for our URL, and get the URL for the archived version there. But since you'll often need to talk with APIs, let's take this opportunity to use the Wayback Machine's [API](https://archive.org/help/wayback_api.php) for the . This will also give us a chance to practice working with JSON."
   ]
  },
  {
   "cell_type": "code",
   "execution_count": 111,
   "metadata": {},
   "outputs": [],
   "source": [
    "url = \"https://www.nobelprize.org/prizes/lists/all-nobel-prizes/\"\n",
    "# All 3 of these do the same thing. The third is my (KCA's) favorite new feature of Python 3.6.\n",
    "wayback_query_url = 'http://archive.org/wayback/available?url={}'.format(url)\n",
    "wayback_query_url = 'http://archive.org/wayback/available?url={url}'.format(url=url)\n",
    "wayback_query_url = f'http://archive.org/wayback/available?url={url}'\n",
    "r = requests.get(wayback_query_url)"
   ]
  },
  {
   "cell_type": "markdown",
   "metadata": {},
   "source": [
    "We got some kind of response... what is it?"
   ]
  },
  {
   "cell_type": "code",
   "execution_count": 112,
   "metadata": {},
   "outputs": [
    {
     "data": {
      "text/plain": [
       "'{\"archived_snapshots\": {\"closest\": {\"timestamp\": \"20200813105329\", \"status\": \"200\", \"available\": true, \"url\": \"http://web.archive.org/web/20200813105329/https://www.nobelprize.org/prizes/lists/all-nobel-prizes/\"}}, \"url\": \"https://www.nobelprize.org/prizes/lists/all-nobel-prizes/\"}'"
      ]
     },
     "execution_count": 112,
     "metadata": {},
     "output_type": "execute_result"
    }
   ],
   "source": [
    "r.text"
   ]
  },
  {
   "cell_type": "markdown",
   "metadata": {},
   "source": [
    "Yay, [JSON](https://en.wikipedia.org/wiki/JSON)! It's usually pretty easy to work with JSON, once we parse it."
   ]
  },
  {
   "cell_type": "code",
   "execution_count": 113,
   "metadata": {},
   "outputs": [
    {
     "data": {
      "text/plain": [
       "{'archived_snapshots': {'closest': {'timestamp': '20200813105329',\n",
       "   'status': '200',\n",
       "   'available': True,\n",
       "   'url': 'http://web.archive.org/web/20200813105329/https://www.nobelprize.org/prizes/lists/all-nobel-prizes/'}},\n",
       " 'url': 'https://www.nobelprize.org/prizes/lists/all-nobel-prizes/'}"
      ]
     },
     "execution_count": 113,
     "metadata": {},
     "output_type": "execute_result"
    }
   ],
   "source": [
    "import json\n",
    "json.loads(r.text)"
   ]
  },
  {
   "cell_type": "markdown",
   "metadata": {},
   "source": [
    "Loading responses as JSON is so common that `requests` has a convenience method for it:"
   ]
  },
  {
   "cell_type": "code",
   "execution_count": 114,
   "metadata": {},
   "outputs": [
    {
     "data": {
      "text/plain": [
       "{'archived_snapshots': {'closest': {'timestamp': '20200813105329',\n",
       "   'status': '200',\n",
       "   'available': True,\n",
       "   'url': 'http://web.archive.org/web/20200813105329/https://www.nobelprize.org/prizes/lists/all-nobel-prizes/'}},\n",
       " 'url': 'https://www.nobelprize.org/prizes/lists/all-nobel-prizes/'}"
      ]
     },
     "execution_count": 114,
     "metadata": {},
     "output_type": "execute_result"
    }
   ],
   "source": [
    "response_json = r.json()\n",
    "response_json"
   ]
  },
  {
   "cell_type": "markdown",
   "metadata": {},
   "source": [
    "**What kind of object is this?**\n",
    "\n",
    "A little Python syntax review: **How can we get the snapshot URL?**"
   ]
  },
  {
   "cell_type": "code",
   "execution_count": 115,
   "metadata": {},
   "outputs": [],
   "source": [
    "snapshot_url = response_json['archived_snapshots']['closest']['url']\n",
    "snapshot = requests.get(snapshot_url)"
   ]
  },
  {
   "cell_type": "markdown",
   "metadata": {},
   "source": [
    "Always remember to “not to be evil” when scraping with requests! If downloading multiple pages (like you will be on HW1), always put a delay between requests (e.g, `time.sleep(1)`, with the `time` library) so you don’t unwittingly hammer someone’s webserver and/or get blocked."
   ]
  },
  {
   "cell_type": "code",
   "execution_count": 116,
   "metadata": {},
   "outputs": [
    {
     "name": "stdout",
     "output_type": "stream",
     "text": [
      "\t<!DOCTYPE html>\n",
      "\n",
      "\t<html lang=\"en-US\" class=\"no-js\">\n",
      "\n",
      "\t<head><script src=\"//archive.org/includes/analytics.js?v=cf34f82\" type=\"text/javascript\"></script>\n",
      "<script type=\"text/javascript\">window.addEventListener('DOMContentLoaded',function(){var v=archive_analytics.values;v.service='wb';v.server_name='wwwb-app56.us.archive.org';v.server_ms=550;archive_analytics.send_pageview({});});</script><script type=\"text/javascript\" src=\"/_static/js/playback.bundle.js?v=WZP3QDOw\" charset=\"utf-8\"></script>\n",
      "<scr\n"
     ]
    }
   ],
   "source": [
    "raw_html = snapshot.text\n",
    "print(raw_html[:500])"
   ]
  },
  {
   "cell_type": "markdown",
   "metadata": {},
   "source": [
    "Now, we have all our data in the notebook. Unfortunately, it is the form of one really long string, which is hard to work with directly. This is where BeautifulSoup comes in.  "
   ]
  },
  {
   "cell_type": "markdown",
   "metadata": {},
   "source": [
    "## Parse the HTML with BeautifulSoup"
   ]
  },
  {
   "cell_type": "code",
   "execution_count": 117,
   "metadata": {},
   "outputs": [],
   "source": [
    "soup = BeautifulSoup(raw_html, 'html.parser')"
   ]
  },
  {
   "cell_type": "markdown",
   "metadata": {},
   "source": [
    "Key BeautifulSoup functions we’ll be using in this section:\n",
    "- **`node.prettify()`**: Returns cleaned-up version of raw HTML, useful for printing\n",
    "- **`node.select(selector)`**: Return a list of nodes matching a [CSS selector](https://developer.mozilla.org/en-US/docs/Learn/CSS/Introduction_to_CSS/Simple_selectors)\n",
    "- **`node.select_one(selector)`**: Return the first node matching a CSS selector\n",
    "- **`node.text/soup.get_text()`**: Returns visible text of an object (e.g.,\"`<p>Some text</p>`\" -> \"Some text\")\n",
    "- **`node.contents`**: A list of the immediate children of this node\n",
    "\n",
    "You can also use these functions to find nodes.\n",
    "- **`node.find_all(<tag name>,attrs=<attributes>)`**: Returns a list of matching objects\n",
    "- **`node.find(<htmltag>,attrs=<attributes>)`**: Returns first matching object\n",
    "\n",
    "BeautifulSoup is a very powerful library -- much more info here: https://www.crummy.com/software/BeautifulSoup/bs4/doc/"
   ]
  },
  {
   "cell_type": "markdown",
   "metadata": {},
   "source": [
    "### Let's practice some BeautifulSoup commands..."
   ]
  },
  {
   "cell_type": "markdown",
   "metadata": {},
   "source": [
    "**Print a cleaned-up version of raw HTML**"
   ]
  },
  {
   "cell_type": "code",
   "execution_count": 118,
   "metadata": {},
   "outputs": [
    {
     "name": "stdout",
     "output_type": "stream",
     "text": [
      "<!DOCTYPE html>\n",
      "<html class=\"no-js\" lang=\"en-US\">\n",
      " <head>\n",
      "  <script src=\"//archive.org/includes/analytics.js?v=cf34f82\" type=\"text/javascript\">\n",
      "  </script>\n",
      "  <script type=\"text/javascript\">\n",
      "   window.addEventListener('DOMContentLoaded',function(){var v=archive_analytics.values;v.service='wb';v.server_name='wwwb-app56.us.archive.org';v.server_ms=550;archive_analytics.send_pageview({});});\n",
      "  </script>\n",
      "  <script charset=\"utf-8\" src=\"/_static/js/playback.bundle.js?v=WZP3QDOw\" type=\"text/javascript\">\n"
     ]
    }
   ],
   "source": [
    "print(soup.prettify()[:500])"
   ]
  },
  {
   "cell_type": "markdown",
   "metadata": {},
   "source": [
    "** Find the first “title” object ** "
   ]
  },
  {
   "cell_type": "code",
   "execution_count": 119,
   "metadata": {},
   "outputs": [
    {
     "data": {
      "text/plain": [
       "<title>All Nobel Prizes</title>"
      ]
     },
     "execution_count": 119,
     "metadata": {},
     "output_type": "execute_result"
    }
   ],
   "source": [
    "soup.select_one('title')"
   ]
  },
  {
   "cell_type": "markdown",
   "metadata": {},
   "source": [
    "** Extract the text of first “title” object ** "
   ]
  },
  {
   "cell_type": "code",
   "execution_count": 120,
   "metadata": {},
   "outputs": [
    {
     "data": {
      "text/plain": [
       "'All Nobel Prizes'"
      ]
     },
     "execution_count": 120,
     "metadata": {},
     "output_type": "execute_result"
    }
   ],
   "source": [
    "soup.select_one('title').text"
   ]
  },
  {
   "cell_type": "markdown",
   "metadata": {},
   "source": [
    "## Extracting award data"
   ]
  },
  {
   "cell_type": "markdown",
   "metadata": {},
   "source": [
    "Let's use the structure of the HTML document to extract the data we want.\n",
    "\n",
    "From inspecting the page in DevTools, we found that each award is in a `div` with a `by_year` class. Let's get all of them."
   ]
  },
  {
   "cell_type": "code",
   "execution_count": 121,
   "metadata": {},
   "outputs": [
    {
     "data": {
      "text/plain": [
       "641"
      ]
     },
     "execution_count": 121,
     "metadata": {},
     "output_type": "execute_result"
    }
   ],
   "source": [
    "award_nodes = soup.select('.by_year')\n",
    "len(award_nodes)"
   ]
  },
  {
   "cell_type": "markdown",
   "metadata": {},
   "source": [
    "Let's pull out a few examples."
   ]
  },
  {
   "cell_type": "code",
   "execution_count": 122,
   "metadata": {},
   "outputs": [
    {
     "data": {
      "text/plain": [
       "[<div class=\"by_year\">\n",
       " <h3><a href=\"http://web.archive.org/web/20200813105329/https://www.nobelprize.org/nobel_prizes/chemistry/laureates/1985/\">The Nobel Prize in Chemistry 1985</a></h3>\n",
       " <p><a href=\"http://web.archive.org/web/20200813105329/https://www.nobelprize.org/nobel_prizes/chemistry/laureates/1985/hauptman-facts.html\">Herbert A. Hauptman</a> and <a href=\"http://web.archive.org/web/20200813105329/https://www.nobelprize.org/nobel_prizes/chemistry/laureates/1985/karle-facts.html\">Jerome Karle</a><br/>\n",
       " “for their outstanding achievements in the development of direct methods for the determination of crystal structures”</p>\n",
       " </div>, <div class=\"by_year\">\n",
       " <h3><a href=\"http://web.archive.org/web/20200813105329/https://www.nobelprize.org/nobel_prizes/medicine/laureates/1985/\">The Nobel Prize in Physiology or Medicine 1985</a></h3>\n",
       " <p><a href=\"http://web.archive.org/web/20200813105329/https://www.nobelprize.org/nobel_prizes/medicine/laureates/1985/brown-facts.html\">Michael S. Brown</a> and <a href=\"http://web.archive.org/web/20200813105329/https://www.nobelprize.org/nobel_prizes/medicine/laureates/1985/goldstein-facts.html\">Joseph L. Goldstein</a><br/>\n",
       " “for their discoveries concerning the regulation of cholesterol metabolism”</p>\n",
       " </div>]"
      ]
     },
     "execution_count": 122,
     "metadata": {},
     "output_type": "execute_result"
    }
   ],
   "source": [
    "award_nodes[200:202]"
   ]
  },
  {
   "cell_type": "markdown",
   "metadata": {},
   "source": [
    "How about just a single example?"
   ]
  },
  {
   "cell_type": "code",
   "execution_count": 123,
   "metadata": {},
   "outputs": [],
   "source": [
    "award_node = award_nodes[200]"
   ]
  },
  {
   "cell_type": "code",
   "execution_count": 124,
   "metadata": {},
   "outputs": [
    {
     "data": {
      "text/html": [
       "<div class=\"by_year\">\n",
       " <h3>\n",
       "  <a href=\"http://web.archive.org/web/20200813105329/https://www.nobelprize.org/nobel_prizes/chemistry/laureates/1985/\">\n",
       "   The Nobel Prize in Chemistry 1985\n",
       "  </a>\n",
       " </h3>\n",
       " <p>\n",
       "  <a href=\"http://web.archive.org/web/20200813105329/https://www.nobelprize.org/nobel_prizes/chemistry/laureates/1985/hauptman-facts.html\">\n",
       "   Herbert A. Hauptman\n",
       "  </a>\n",
       "  and\n",
       "  <a href=\"http://web.archive.org/web/20200813105329/https://www.nobelprize.org/nobel_prizes/chemistry/laureates/1985/karle-facts.html\">\n",
       "   Jerome Karle\n",
       "  </a>\n",
       "  <br/>\n",
       "  “for their outstanding achievements in the development of direct methods for the determination of crystal structures”\n",
       " </p>\n",
       "</div>\n"
      ],
      "text/plain": [
       "<IPython.core.display.HTML object>"
      ]
     },
     "execution_count": 124,
     "metadata": {},
     "output_type": "execute_result"
    }
   ],
   "source": [
    "HTML(award_node.prettify())"
   ]
  },
  {
   "cell_type": "markdown",
   "metadata": {},
   "source": [
    "## Individual Activity 1\n",
    "Let's practice getting data out of a BS Node"
   ]
  },
  {
   "cell_type": "markdown",
   "metadata": {},
   "source": [
    "### Extract the prize title\n",
    "Start by getting the full title including the year."
   ]
  },
  {
   "cell_type": "code",
   "execution_count": 125,
   "metadata": {
    "scrolled": true
   },
   "outputs": [
    {
     "data": {
      "text/plain": [
       "['The Nobel Prize in Physics 2019',\n",
       " 'The Nobel Prize in Chemistry 2019',\n",
       " 'The Nobel Prize in Physiology or Medicine 2019',\n",
       " 'The Nobel Prize in Literature 2019',\n",
       " 'The Nobel Peace Prize 2019']"
      ]
     },
     "execution_count": 125,
     "metadata": {},
     "output_type": "execute_result"
    }
   ],
   "source": [
    "entry = soup.find('main', id='content')\n",
    "\n",
    "tny=[]\n",
    "for i in entry.find_all('h3'):\n",
    "    #if(i.a)!= None:\n",
    "    if i.find('a'):\n",
    "        tny.append(i.a.text)\n",
    "tny[:5]"
   ]
  },
  {
   "cell_type": "code",
   "execution_count": 138,
   "metadata": {},
   "outputs": [
    {
     "name": "stdout",
     "output_type": "stream",
     "text": [
      "The Nobel Prize in Physics 2019\n",
      "The Nobel Prize in Chemistry 2019\n",
      "The Nobel Prize in Physiology or Medicine 2019\n",
      "The Nobel Prize in Literature 2019\n",
      "The Nobel Peace Prize 2019\n",
      "The Sveriges Riksbank Prize in Economic Sciences in Memory of Alfred Nobel 2019\n",
      "The Nobel Prize in Physics 2018\n",
      "The Nobel Prize in Chemistry 2018\n",
      "The Nobel Prize in Physiology or Medicine 2018\n",
      "The Nobel Prize in Literature 2018\n",
      "The Nobel Peace Prize 2018\n",
      "The Sveriges Riksbank Prize in Economic Sciences in Memory of Alfred Nobel 2018\n",
      "The Nobel Prize in Physics 2017\n",
      "The Nobel Prize in Chemistry 2017\n",
      "The Nobel Prize in Physiology or Medicine 2017\n",
      "The Nobel Prize in Literature 2017\n",
      "The Nobel Peace Prize 2017\n",
      "The Sveriges Riksbank Prize in Economic Sciences in Memory of Alfred Nobel 2017\n",
      "The Nobel Prize in Physics 2016\n",
      "The Nobel Prize in Chemistry 2016\n",
      "The Nobel Prize in Physiology or Medicine 2016\n",
      "The Nobel Prize in Literature 2016\n",
      "The Nobel Peace Prize 2016\n",
      "The Sveriges Riksbank Prize in Economic Sciences in Memory of Alfred Nobel 2016\n",
      "The Nobel Prize in Physics 2015\n",
      "The Nobel Prize in Chemistry 2015\n",
      "The Nobel Prize in Physiology or Medicine 2015\n",
      "The Nobel Prize in Literature 2015\n",
      "The Nobel Peace Prize 2015\n",
      "The Sveriges Riksbank Prize in Economic Sciences in Memory of Alfred Nobel 2015\n",
      "The Nobel Prize in Physics 2014\n",
      "The Nobel Prize in Chemistry 2014\n",
      "The Nobel Prize in Physiology or Medicine 2014\n",
      "The Nobel Prize in Literature 2014\n",
      "The Nobel Peace Prize 2014\n",
      "The Sveriges Riksbank Prize in Economic Sciences in Memory of Alfred Nobel 2014\n",
      "The Nobel Prize in Physics 2013\n",
      "The Nobel Prize in Chemistry 2013\n",
      "The Nobel Prize in Physiology or Medicine 2013\n",
      "The Nobel Prize in Literature 2013\n",
      "The Nobel Peace Prize 2013\n",
      "The Sveriges Riksbank Prize in Economic Sciences in Memory of Alfred Nobel 2013\n",
      "The Nobel Prize in Physics 2012\n",
      "The Nobel Prize in Chemistry 2012\n",
      "The Nobel Prize in Physiology or Medicine 2012\n",
      "The Nobel Prize in Literature 2012\n",
      "The Nobel Peace Prize 2012\n",
      "The Sveriges Riksbank Prize in Economic Sciences in Memory of Alfred Nobel 2012\n",
      "The Nobel Prize in Physics 2011\n",
      "The Nobel Prize in Chemistry 2011\n",
      "The Nobel Prize in Physiology or Medicine 2011\n",
      "The Nobel Prize in Literature 2011\n",
      "The Nobel Peace Prize 2011\n",
      "The Sveriges Riksbank Prize in Economic Sciences in Memory of Alfred Nobel 2011\n",
      "The Nobel Prize in Physics 2010\n",
      "The Nobel Prize in Chemistry 2010\n",
      "The Nobel Prize in Physiology or Medicine 2010\n",
      "The Nobel Prize in Literature 2010\n",
      "The Nobel Peace Prize 2010\n",
      "The Sveriges Riksbank Prize in Economic Sciences in Memory of Alfred Nobel 2010\n",
      "The Nobel Prize in Physics 2009\n",
      "The Nobel Prize in Chemistry 2009\n",
      "The Nobel Prize in Physiology or Medicine 2009\n",
      "The Nobel Prize in Literature 2009\n",
      "The Nobel Peace Prize 2009\n",
      "The Sveriges Riksbank Prize in Economic Sciences in Memory of Alfred Nobel 2009\n",
      "The Nobel Prize in Physics 2008\n",
      "The Nobel Prize in Chemistry 2008\n",
      "The Nobel Prize in Physiology or Medicine 2008\n",
      "The Nobel Prize in Literature 2008\n",
      "The Nobel Peace Prize 2008\n",
      "The Sveriges Riksbank Prize in Economic Sciences in Memory of Alfred Nobel 2008\n",
      "The Nobel Prize in Physics 2007\n",
      "The Nobel Prize in Chemistry 2007\n",
      "The Nobel Prize in Physiology or Medicine 2007\n",
      "The Nobel Prize in Literature 2007\n",
      "The Nobel Peace Prize 2007\n",
      "The Sveriges Riksbank Prize in Economic Sciences in Memory of Alfred Nobel 2007\n",
      "The Nobel Prize in Physics 2006\n",
      "The Nobel Prize in Chemistry 2006\n",
      "The Nobel Prize in Physiology or Medicine 2006\n",
      "The Nobel Prize in Literature 2006\n",
      "The Nobel Peace Prize 2006\n",
      "The Sveriges Riksbank Prize in Economic Sciences in Memory of Alfred Nobel 2006\n",
      "The Nobel Prize in Physics 2005\n",
      "The Nobel Prize in Chemistry 2005\n",
      "The Nobel Prize in Physiology or Medicine 2005\n",
      "The Nobel Prize in Literature 2005\n",
      "The Nobel Peace Prize 2005\n",
      "The Sveriges Riksbank Prize in Economic Sciences in Memory of Alfred Nobel 2005\n",
      "The Nobel Prize in Physics 2004\n",
      "The Nobel Prize in Chemistry 2004\n",
      "The Nobel Prize in Physiology or Medicine 2004\n",
      "The Nobel Prize in Literature 2004\n",
      "The Nobel Peace Prize 2004\n",
      "The Sveriges Riksbank Prize in Economic Sciences in Memory of Alfred Nobel 2004\n",
      "The Nobel Prize in Physics 2003\n",
      "The Nobel Prize in Chemistry 2003\n",
      "The Nobel Prize in Physiology or Medicine 2003\n",
      "The Nobel Prize in Literature 2003\n",
      "The Nobel Peace Prize 2003\n",
      "The Sveriges Riksbank Prize in Economic Sciences in Memory of Alfred Nobel 2003\n",
      "The Nobel Prize in Physics 2002\n",
      "The Nobel Prize in Chemistry 2002\n",
      "The Nobel Prize in Physiology or Medicine 2002\n",
      "The Nobel Prize in Literature 2002\n",
      "The Nobel Peace Prize 2002\n",
      "The Sveriges Riksbank Prize in Economic Sciences in Memory of Alfred Nobel 2002\n",
      "The Nobel Prize in Physics 2001\n",
      "The Nobel Prize in Chemistry 2001\n",
      "The Nobel Prize in Physiology or Medicine 2001\n",
      "The Nobel Prize in Literature 2001\n",
      "The Nobel Peace Prize 2001\n",
      "The Sveriges Riksbank Prize in Economic Sciences in Memory of Alfred Nobel 2001\n",
      "The Nobel Prize in Physics 2000\n",
      "The Nobel Prize in Chemistry 2000\n",
      "The Nobel Prize in Physiology or Medicine 2000\n",
      "The Nobel Prize in Literature 2000\n",
      "The Nobel Peace Prize 2000\n",
      "The Sveriges Riksbank Prize in Economic Sciences in Memory of Alfred Nobel 2000\n",
      "The Nobel Prize in Physics 1999\n",
      "The Nobel Prize in Chemistry 1999\n",
      "The Nobel Prize in Physiology or Medicine 1999\n",
      "The Nobel Prize in Literature 1999\n",
      "The Nobel Peace Prize 1999\n",
      "The Sveriges Riksbank Prize in Economic Sciences in Memory of Alfred Nobel 1999\n",
      "The Nobel Prize in Physics 1998\n",
      "The Nobel Prize in Chemistry 1998\n",
      "The Nobel Prize in Physiology or Medicine 1998\n",
      "The Nobel Prize in Literature 1998\n",
      "The Nobel Peace Prize 1998\n",
      "The Sveriges Riksbank Prize in Economic Sciences in Memory of Alfred Nobel 1998\n",
      "The Nobel Prize in Physics 1997\n",
      "The Nobel Prize in Chemistry 1997\n",
      "The Nobel Prize in Physiology or Medicine 1997\n",
      "The Nobel Prize in Literature 1997\n",
      "The Nobel Peace Prize 1997\n",
      "The Sveriges Riksbank Prize in Economic Sciences in Memory of Alfred Nobel 1997\n",
      "The Nobel Prize in Physics 1996\n",
      "The Nobel Prize in Chemistry 1996\n",
      "The Nobel Prize in Physiology or Medicine 1996\n",
      "The Nobel Prize in Literature 1996\n",
      "The Nobel Peace Prize 1996\n",
      "The Sveriges Riksbank Prize in Economic Sciences in Memory of Alfred Nobel 1996\n",
      "The Nobel Prize in Physics 1995\n",
      "The Nobel Prize in Chemistry 1995\n",
      "The Nobel Prize in Physiology or Medicine 1995\n",
      "The Nobel Prize in Literature 1995\n",
      "The Nobel Peace Prize 1995\n",
      "The Sveriges Riksbank Prize in Economic Sciences in Memory of Alfred Nobel 1995\n",
      "The Nobel Prize in Physics 1994\n",
      "The Nobel Prize in Chemistry 1994\n",
      "The Nobel Prize in Physiology or Medicine 1994\n",
      "The Nobel Prize in Literature 1994\n",
      "The Nobel Peace Prize 1994\n",
      "The Sveriges Riksbank Prize in Economic Sciences in Memory of Alfred Nobel 1994\n",
      "The Nobel Prize in Physics 1993\n",
      "The Nobel Prize in Chemistry 1993\n",
      "The Nobel Prize in Physiology or Medicine 1993\n",
      "The Nobel Prize in Literature 1993\n",
      "The Nobel Peace Prize 1993\n",
      "The Sveriges Riksbank Prize in Economic Sciences in Memory of Alfred Nobel 1993\n",
      "The Nobel Prize in Physics 1992\n",
      "The Nobel Prize in Chemistry 1992\n",
      "The Nobel Prize in Physiology or Medicine 1992\n",
      "The Nobel Prize in Literature 1992\n",
      "The Nobel Peace Prize 1992\n",
      "The Sveriges Riksbank Prize in Economic Sciences in Memory of Alfred Nobel 1992\n",
      "The Nobel Prize in Physics 1991\n",
      "The Nobel Prize in Chemistry 1991\n",
      "The Nobel Prize in Physiology or Medicine 1991\n",
      "The Nobel Prize in Literature 1991\n",
      "The Nobel Peace Prize 1991\n",
      "The Sveriges Riksbank Prize in Economic Sciences in Memory of Alfred Nobel 1991\n",
      "The Nobel Prize in Physics 1990\n",
      "The Nobel Prize in Chemistry 1990\n",
      "The Nobel Prize in Physiology or Medicine 1990\n",
      "The Nobel Prize in Literature 1990\n",
      "The Nobel Peace Prize 1990\n",
      "The Sveriges Riksbank Prize in Economic Sciences in Memory of Alfred Nobel 1990\n",
      "The Nobel Prize in Physics 1989\n",
      "The Nobel Prize in Chemistry 1989\n",
      "The Nobel Prize in Physiology or Medicine 1989\n",
      "The Nobel Prize in Literature 1989\n",
      "The Nobel Peace Prize 1989\n",
      "The Sveriges Riksbank Prize in Economic Sciences in Memory of Alfred Nobel 1989\n",
      "The Nobel Prize in Physics 1988\n",
      "The Nobel Prize in Chemistry 1988\n",
      "The Nobel Prize in Physiology or Medicine 1988\n",
      "The Nobel Prize in Literature 1988\n",
      "The Nobel Peace Prize 1988\n",
      "The Sveriges Riksbank Prize in Economic Sciences in Memory of Alfred Nobel 1988\n",
      "The Nobel Prize in Physics 1987\n",
      "The Nobel Prize in Chemistry 1987\n",
      "The Nobel Prize in Physiology or Medicine 1987\n",
      "The Nobel Prize in Literature 1987\n",
      "The Nobel Peace Prize 1987\n",
      "The Sveriges Riksbank Prize in Economic Sciences in Memory of Alfred Nobel 1987\n",
      "The Nobel Prize in Physics 1986\n",
      "The Nobel Prize in Chemistry 1986\n",
      "The Nobel Prize in Physiology or Medicine 1986\n",
      "The Nobel Prize in Literature 1986\n",
      "The Nobel Peace Prize 1986\n",
      "The Sveriges Riksbank Prize in Economic Sciences in Memory of Alfred Nobel 1986\n",
      "The Nobel Prize in Physics 1985\n",
      "The Nobel Prize in Chemistry 1985\n",
      "The Nobel Prize in Physiology or Medicine 1985\n",
      "The Nobel Prize in Literature 1985\n",
      "The Nobel Peace Prize 1985\n",
      "The Sveriges Riksbank Prize in Economic Sciences in Memory of Alfred Nobel 1985\n",
      "The Nobel Prize in Physics 1984\n",
      "The Nobel Prize in Chemistry 1984\n",
      "The Nobel Prize in Physiology or Medicine 1984\n",
      "The Nobel Prize in Literature 1984\n",
      "The Nobel Peace Prize 1984\n",
      "The Sveriges Riksbank Prize in Economic Sciences in Memory of Alfred Nobel 1984\n",
      "The Nobel Prize in Physics 1983\n",
      "The Nobel Prize in Chemistry 1983\n",
      "The Nobel Prize in Physiology or Medicine 1983\n",
      "The Nobel Prize in Literature 1983\n",
      "The Nobel Peace Prize 1983\n",
      "The Sveriges Riksbank Prize in Economic Sciences in Memory of Alfred Nobel 1983\n",
      "The Nobel Prize in Physics 1982\n",
      "The Nobel Prize in Chemistry 1982\n",
      "The Nobel Prize in Physiology or Medicine 1982\n",
      "The Nobel Prize in Literature 1982\n",
      "The Nobel Peace Prize 1982\n",
      "The Sveriges Riksbank Prize in Economic Sciences in Memory of Alfred Nobel 1982\n",
      "The Nobel Prize in Physics 1981\n",
      "The Nobel Prize in Chemistry 1981\n",
      "The Nobel Prize in Physiology or Medicine 1981\n",
      "The Nobel Prize in Literature 1981\n",
      "The Nobel Peace Prize 1981\n",
      "The Sveriges Riksbank Prize in Economic Sciences in Memory of Alfred Nobel 1981\n",
      "The Nobel Prize in Physics 1980\n",
      "The Nobel Prize in Chemistry 1980\n",
      "The Nobel Prize in Physiology or Medicine 1980\n",
      "The Nobel Prize in Literature 1980\n",
      "The Nobel Peace Prize 1980\n",
      "The Sveriges Riksbank Prize in Economic Sciences in Memory of Alfred Nobel 1980\n",
      "The Nobel Prize in Physics 1979\n",
      "The Nobel Prize in Chemistry 1979\n",
      "The Nobel Prize in Physiology or Medicine 1979\n",
      "The Nobel Prize in Literature 1979\n",
      "The Nobel Peace Prize 1979\n",
      "The Sveriges Riksbank Prize in Economic Sciences in Memory of Alfred Nobel 1979\n",
      "The Nobel Prize in Physics 1978\n",
      "The Nobel Prize in Chemistry 1978\n",
      "The Nobel Prize in Physiology or Medicine 1978\n",
      "The Nobel Prize in Literature 1978\n",
      "The Nobel Peace Prize 1978\n",
      "The Sveriges Riksbank Prize in Economic Sciences in Memory of Alfred Nobel 1978\n",
      "The Nobel Prize in Physics 1977\n",
      "The Nobel Prize in Chemistry 1977\n",
      "The Nobel Prize in Physiology or Medicine 1977\n",
      "The Nobel Prize in Literature 1977\n",
      "The Nobel Peace Prize 1977\n",
      "The Sveriges Riksbank Prize in Economic Sciences in Memory of Alfred Nobel 1977\n",
      "The Nobel Prize in Physics 1976\n",
      "The Nobel Prize in Chemistry 1976\n",
      "The Nobel Prize in Physiology or Medicine 1976\n",
      "The Nobel Prize in Literature 1976\n",
      "The Nobel Peace Prize 1976\n",
      "The Sveriges Riksbank Prize in Economic Sciences in Memory of Alfred Nobel 1976\n",
      "The Nobel Prize in Physics 1975\n",
      "The Nobel Prize in Chemistry 1975\n",
      "The Nobel Prize in Physiology or Medicine 1975\n",
      "The Nobel Prize in Literature 1975\n",
      "The Nobel Peace Prize 1975\n",
      "The Sveriges Riksbank Prize in Economic Sciences in Memory of Alfred Nobel 1975\n",
      "The Nobel Prize in Physics 1974\n",
      "The Nobel Prize in Chemistry 1974\n",
      "The Nobel Prize in Physiology or Medicine 1974\n",
      "The Nobel Prize in Literature 1974\n",
      "The Nobel Peace Prize 1974\n",
      "The Sveriges Riksbank Prize in Economic Sciences in Memory of Alfred Nobel 1974\n",
      "The Nobel Prize in Physics 1973\n",
      "The Nobel Prize in Chemistry 1973\n",
      "The Nobel Prize in Physiology or Medicine 1973\n",
      "The Nobel Prize in Literature 1973\n",
      "The Nobel Peace Prize 1973\n",
      "The Sveriges Riksbank Prize in Economic Sciences in Memory of Alfred Nobel 1973\n",
      "The Nobel Prize in Physics 1972\n",
      "The Nobel Prize in Chemistry 1972\n",
      "The Nobel Prize in Physiology or Medicine 1972\n",
      "The Nobel Prize in Literature 1972\n",
      "The Nobel Peace Prize 1972\n",
      "The Sveriges Riksbank Prize in Economic Sciences in Memory of Alfred Nobel 1972\n",
      "The Nobel Prize in Physics 1971\n",
      "The Nobel Prize in Chemistry 1971\n",
      "The Nobel Prize in Physiology or Medicine 1971\n",
      "The Nobel Prize in Literature 1971\n",
      "The Nobel Peace Prize 1971\n",
      "The Sveriges Riksbank Prize in Economic Sciences in Memory of Alfred Nobel 1971\n",
      "The Nobel Prize in Physics 1970\n",
      "The Nobel Prize in Chemistry 1970\n",
      "The Nobel Prize in Physiology or Medicine 1970\n",
      "The Nobel Prize in Literature 1970\n",
      "The Nobel Peace Prize 1970\n",
      "The Sveriges Riksbank Prize in Economic Sciences in Memory of Alfred Nobel 1970\n",
      "The Nobel Prize in Physics 1969\n",
      "The Nobel Prize in Chemistry 1969\n",
      "The Nobel Prize in Physiology or Medicine 1969\n",
      "The Nobel Prize in Literature 1969\n",
      "The Nobel Peace Prize 1969\n",
      "The Sveriges Riksbank Prize in Economic Sciences in Memory of Alfred Nobel 1969\n",
      "The Nobel Prize in Physics 1968\n",
      "The Nobel Prize in Chemistry 1968\n",
      "The Nobel Prize in Physiology or Medicine 1968\n",
      "The Nobel Prize in Literature 1968\n",
      "The Nobel Peace Prize 1968\n",
      "The Nobel Prize in Physics 1967\n",
      "The Nobel Prize in Chemistry 1967\n",
      "The Nobel Prize in Physiology or Medicine 1967\n",
      "The Nobel Prize in Literature 1967\n",
      "The Nobel Peace Prize 1967\n",
      "The Nobel Prize in Physics 1966\n",
      "The Nobel Prize in Chemistry 1966\n",
      "The Nobel Prize in Physiology or Medicine 1966\n",
      "The Nobel Prize in Literature 1966\n",
      "The Nobel Peace Prize 1966\n",
      "The Nobel Prize in Physics 1965\n",
      "The Nobel Prize in Chemistry 1965\n",
      "The Nobel Prize in Physiology or Medicine 1965\n",
      "The Nobel Prize in Literature 1965\n",
      "The Nobel Peace Prize 1965\n",
      "The Nobel Prize in Physics 1964\n",
      "The Nobel Prize in Chemistry 1964\n",
      "The Nobel Prize in Physiology or Medicine 1964\n",
      "The Nobel Prize in Literature 1964\n",
      "The Nobel Peace Prize 1964\n",
      "The Nobel Prize in Physics 1963\n",
      "The Nobel Prize in Chemistry 1963\n",
      "The Nobel Prize in Physiology or Medicine 1963\n",
      "The Nobel Prize in Literature 1963\n",
      "The Nobel Peace Prize 1963\n",
      "The Nobel Prize in Physics 1962\n",
      "The Nobel Prize in Chemistry 1962\n",
      "The Nobel Prize in Physiology or Medicine 1962\n",
      "The Nobel Prize in Literature 1962\n",
      "The Nobel Peace Prize 1962\n",
      "The Nobel Prize in Physics 1961\n",
      "The Nobel Prize in Chemistry 1961\n",
      "The Nobel Prize in Physiology or Medicine 1961\n",
      "The Nobel Prize in Literature 1961\n",
      "The Nobel Peace Prize 1961\n",
      "The Nobel Prize in Physics 1960\n",
      "The Nobel Prize in Chemistry 1960\n",
      "The Nobel Prize in Physiology or Medicine 1960\n",
      "The Nobel Prize in Literature 1960\n",
      "The Nobel Peace Prize 1960\n",
      "The Nobel Prize in Physics 1959\n",
      "The Nobel Prize in Chemistry 1959\n",
      "The Nobel Prize in Physiology or Medicine 1959\n",
      "The Nobel Prize in Literature 1959\n",
      "The Nobel Peace Prize 1959\n",
      "The Nobel Prize in Physics 1958\n",
      "The Nobel Prize in Chemistry 1958\n",
      "The Nobel Prize in Physiology or Medicine 1958\n",
      "The Nobel Prize in Literature 1958\n",
      "The Nobel Peace Prize 1958\n",
      "The Nobel Prize in Physics 1957\n",
      "The Nobel Prize in Chemistry 1957\n",
      "The Nobel Prize in Physiology or Medicine 1957\n",
      "The Nobel Prize in Literature 1957\n",
      "The Nobel Peace Prize 1957\n",
      "The Nobel Prize in Physics 1956\n",
      "The Nobel Prize in Chemistry 1956\n",
      "The Nobel Prize in Physiology or Medicine 1956\n",
      "The Nobel Prize in Literature 1956\n",
      "The Nobel Peace Prize 1956\n",
      "The Nobel Prize in Physics 1955\n",
      "The Nobel Prize in Chemistry 1955\n",
      "The Nobel Prize in Physiology or Medicine 1955\n",
      "The Nobel Prize in Literature 1955\n",
      "The Nobel Peace Prize 1955\n",
      "The Nobel Prize in Physics 1954\n",
      "The Nobel Prize in Chemistry 1954\n",
      "The Nobel Prize in Physiology or Medicine 1954\n",
      "The Nobel Prize in Literature 1954\n",
      "The Nobel Peace Prize 1954\n",
      "The Nobel Prize in Physics 1953\n",
      "The Nobel Prize in Chemistry 1953\n",
      "The Nobel Prize in Physiology or Medicine 1953\n",
      "The Nobel Prize in Literature 1953\n",
      "The Nobel Peace Prize 1953\n",
      "The Nobel Prize in Physics 1952\n",
      "The Nobel Prize in Chemistry 1952\n",
      "The Nobel Prize in Physiology or Medicine 1952\n",
      "The Nobel Prize in Literature 1952\n",
      "The Nobel Peace Prize 1952\n",
      "The Nobel Prize in Physics 1951\n",
      "The Nobel Prize in Chemistry 1951\n",
      "The Nobel Prize in Physiology or Medicine 1951\n",
      "The Nobel Prize in Literature 1951\n",
      "The Nobel Peace Prize 1951\n",
      "The Nobel Prize in Physics 1950\n",
      "The Nobel Prize in Chemistry 1950\n",
      "The Nobel Prize in Physiology or Medicine 1950\n",
      "The Nobel Prize in Literature 1950\n",
      "The Nobel Peace Prize 1950\n",
      "The Nobel Prize in Physics 1949\n",
      "The Nobel Prize in Chemistry 1949\n",
      "The Nobel Prize in Physiology or Medicine 1949\n",
      "The Nobel Prize in Literature 1949\n",
      "The Nobel Peace Prize 1949\n",
      "The Nobel Prize in Physics 1948\n",
      "The Nobel Prize in Chemistry 1948\n",
      "The Nobel Prize in Physiology or Medicine 1948\n",
      "The Nobel Prize in Literature 1948\n",
      "The Nobel Peace Prize 1948\n",
      "The Nobel Prize in Physics 1947\n",
      "The Nobel Prize in Chemistry 1947\n",
      "The Nobel Prize in Physiology or Medicine 1947\n",
      "The Nobel Prize in Literature 1947\n",
      "The Nobel Peace Prize 1947\n",
      "The Nobel Prize in Physics 1946\n",
      "The Nobel Prize in Chemistry 1946\n",
      "The Nobel Prize in Physiology or Medicine 1946\n",
      "The Nobel Prize in Literature 1946\n",
      "The Nobel Peace Prize 1946\n",
      "The Nobel Prize in Physics 1945\n",
      "The Nobel Prize in Chemistry 1945\n",
      "The Nobel Prize in Physiology or Medicine 1945\n",
      "The Nobel Prize in Literature 1945\n",
      "The Nobel Peace Prize 1945\n",
      "The Nobel Prize in Physics 1944\n",
      "The Nobel Prize in Chemistry 1944\n",
      "The Nobel Prize in Physiology or Medicine 1944\n",
      "The Nobel Prize in Literature 1944\n",
      "The Nobel Peace Prize 1944\n",
      "The Nobel Prize in Physics 1943\n",
      "The Nobel Prize in Chemistry 1943\n",
      "The Nobel Prize in Physiology or Medicine 1943\n",
      "The Nobel Prize in Literature 1943\n",
      "The Nobel Peace Prize 1943\n",
      "The Nobel Prize in Physics 1942\n",
      "The Nobel Prize in Chemistry 1942\n",
      "The Nobel Prize in Physiology or Medicine 1942\n",
      "The Nobel Prize in Literature 1942\n",
      "The Nobel Peace Prize 1942\n",
      "The Nobel Prize in Physics 1941\n",
      "The Nobel Prize in Chemistry 1941\n",
      "The Nobel Prize in Physiology or Medicine 1941\n",
      "The Nobel Prize in Literature 1941\n",
      "The Nobel Peace Prize 1941\n",
      "The Nobel Prize in Physics 1940\n",
      "The Nobel Prize in Chemistry 1940\n",
      "The Nobel Prize in Physiology or Medicine 1940\n",
      "The Nobel Prize in Literature 1940\n",
      "The Nobel Peace Prize 1940\n",
      "The Nobel Prize in Physics 1939\n",
      "The Nobel Prize in Chemistry 1939\n",
      "The Nobel Prize in Physiology or Medicine 1939\n",
      "The Nobel Prize in Literature 1939\n",
      "The Nobel Peace Prize 1939\n",
      "The Nobel Prize in Physics 1938\n",
      "The Nobel Prize in Chemistry 1938\n",
      "The Nobel Prize in Physiology or Medicine 1938\n",
      "The Nobel Prize in Literature 1938\n",
      "The Nobel Peace Prize 1938\n",
      "The Nobel Prize in Physics 1937\n",
      "The Nobel Prize in Chemistry 1937\n",
      "The Nobel Prize in Physiology or Medicine 1937\n",
      "The Nobel Prize in Literature 1937\n",
      "The Nobel Peace Prize 1937\n",
      "The Nobel Prize in Physics 1936\n",
      "The Nobel Prize in Chemistry 1936\n",
      "The Nobel Prize in Physiology or Medicine 1936\n",
      "The Nobel Prize in Literature 1936\n",
      "The Nobel Peace Prize 1936\n",
      "The Nobel Prize in Physics 1935\n",
      "The Nobel Prize in Chemistry 1935\n",
      "The Nobel Prize in Physiology or Medicine 1935\n",
      "The Nobel Prize in Literature 1935\n",
      "The Nobel Peace Prize 1935\n",
      "The Nobel Prize in Physics 1934\n",
      "The Nobel Prize in Chemistry 1934\n",
      "The Nobel Prize in Physiology or Medicine 1934\n",
      "The Nobel Prize in Literature 1934\n",
      "The Nobel Peace Prize 1934\n",
      "The Nobel Prize in Physics 1933\n",
      "The Nobel Prize in Chemistry 1933\n",
      "The Nobel Prize in Physiology or Medicine 1933\n",
      "The Nobel Prize in Literature 1933\n",
      "The Nobel Peace Prize 1933\n",
      "The Nobel Prize in Physics 1932\n",
      "The Nobel Prize in Chemistry 1932\n",
      "The Nobel Prize in Physiology or Medicine 1932\n",
      "The Nobel Prize in Literature 1932\n",
      "The Nobel Peace Prize 1932\n",
      "The Nobel Prize in Physics 1931\n",
      "The Nobel Prize in Chemistry 1931\n",
      "The Nobel Prize in Physiology or Medicine 1931\n",
      "The Nobel Prize in Literature 1931\n",
      "The Nobel Peace Prize 1931\n",
      "The Nobel Prize in Physics 1930\n",
      "The Nobel Prize in Chemistry 1930\n",
      "The Nobel Prize in Physiology or Medicine 1930\n",
      "The Nobel Prize in Literature 1930\n",
      "The Nobel Peace Prize 1930\n",
      "The Nobel Prize in Physics 1929\n",
      "The Nobel Prize in Chemistry 1929\n",
      "The Nobel Prize in Physiology or Medicine 1929\n",
      "The Nobel Prize in Literature 1929\n",
      "The Nobel Peace Prize 1929\n",
      "The Nobel Prize in Physics 1928\n",
      "The Nobel Prize in Chemistry 1928\n",
      "The Nobel Prize in Physiology or Medicine 1928\n",
      "The Nobel Prize in Literature 1928\n",
      "The Nobel Peace Prize 1928\n",
      "The Nobel Prize in Physics 1927\n",
      "The Nobel Prize in Chemistry 1927\n",
      "The Nobel Prize in Physiology or Medicine 1927\n",
      "The Nobel Prize in Literature 1927\n",
      "The Nobel Peace Prize 1927\n",
      "The Nobel Prize in Physics 1926\n",
      "The Nobel Prize in Chemistry 1926\n",
      "The Nobel Prize in Physiology or Medicine 1926\n",
      "The Nobel Prize in Literature 1926\n",
      "The Nobel Peace Prize 1926\n",
      "The Nobel Prize in Physics 1925\n",
      "The Nobel Prize in Chemistry 1925\n",
      "The Nobel Prize in Physiology or Medicine 1925\n",
      "The Nobel Prize in Literature 1925\n",
      "The Nobel Peace Prize 1925\n",
      "The Nobel Prize in Physics 1924\n",
      "The Nobel Prize in Chemistry 1924\n",
      "The Nobel Prize in Physiology or Medicine 1924\n",
      "The Nobel Prize in Literature 1924\n",
      "The Nobel Peace Prize 1924\n",
      "The Nobel Prize in Physics 1923\n",
      "The Nobel Prize in Chemistry 1923\n",
      "The Nobel Prize in Physiology or Medicine 1923\n",
      "The Nobel Prize in Literature 1923\n",
      "The Nobel Peace Prize 1923\n",
      "The Nobel Prize in Physics 1922\n",
      "The Nobel Prize in Chemistry 1922\n",
      "The Nobel Prize in Physiology or Medicine 1922\n",
      "The Nobel Prize in Literature 1922\n",
      "The Nobel Peace Prize 1922\n",
      "The Nobel Prize in Physics 1921\n",
      "The Nobel Prize in Chemistry 1921\n",
      "The Nobel Prize in Physiology or Medicine 1921\n",
      "The Nobel Prize in Literature 1921\n",
      "The Nobel Peace Prize 1921\n",
      "The Nobel Prize in Physics 1920\n",
      "The Nobel Prize in Chemistry 1920\n",
      "The Nobel Prize in Physiology or Medicine 1920\n",
      "The Nobel Prize in Literature 1920\n",
      "The Nobel Peace Prize 1920\n",
      "The Nobel Prize in Physics 1919\n",
      "The Nobel Prize in Chemistry 1919\n",
      "The Nobel Prize in Physiology or Medicine 1919\n",
      "The Nobel Prize in Literature 1919\n",
      "The Nobel Peace Prize 1919\n",
      "The Nobel Prize in Physics 1918\n",
      "The Nobel Prize in Chemistry 1918\n",
      "The Nobel Prize in Physiology or Medicine 1918\n",
      "The Nobel Prize in Literature 1918\n",
      "The Nobel Peace Prize 1918\n",
      "The Nobel Prize in Physics 1917\n",
      "The Nobel Prize in Chemistry 1917\n",
      "The Nobel Prize in Physiology or Medicine 1917\n",
      "The Nobel Prize in Literature 1917\n",
      "The Nobel Peace Prize 1917\n",
      "The Nobel Prize in Physics 1916\n",
      "The Nobel Prize in Chemistry 1916\n",
      "The Nobel Prize in Physiology or Medicine 1916\n",
      "The Nobel Prize in Literature 1916\n",
      "The Nobel Peace Prize 1916\n",
      "The Nobel Prize in Physics 1915\n",
      "The Nobel Prize in Chemistry 1915\n",
      "The Nobel Prize in Physiology or Medicine 1915\n",
      "The Nobel Prize in Literature 1915\n",
      "The Nobel Peace Prize 1915\n",
      "The Nobel Prize in Physics 1914\n",
      "The Nobel Prize in Chemistry 1914\n",
      "The Nobel Prize in Physiology or Medicine 1914\n",
      "The Nobel Prize in Literature 1914\n",
      "The Nobel Peace Prize 1914\n",
      "The Nobel Prize in Physics 1913\n",
      "The Nobel Prize in Chemistry 1913\n",
      "The Nobel Prize in Physiology or Medicine 1913\n",
      "The Nobel Prize in Literature 1913\n",
      "The Nobel Peace Prize 1913\n",
      "The Nobel Prize in Physics 1912\n",
      "The Nobel Prize in Chemistry 1912\n",
      "The Nobel Prize in Physiology or Medicine 1912\n",
      "The Nobel Prize in Literature 1912\n",
      "The Nobel Peace Prize 1912\n",
      "The Nobel Prize in Physics 1911\n",
      "The Nobel Prize in Chemistry 1911\n",
      "The Nobel Prize in Physiology or Medicine 1911\n",
      "The Nobel Prize in Literature 1911\n",
      "The Nobel Peace Prize 1911\n",
      "The Nobel Prize in Physics 1910\n",
      "The Nobel Prize in Chemistry 1910\n",
      "The Nobel Prize in Physiology or Medicine 1910\n",
      "The Nobel Prize in Literature 1910\n",
      "The Nobel Peace Prize 1910\n",
      "The Nobel Prize in Physics 1909\n",
      "The Nobel Prize in Chemistry 1909\n",
      "The Nobel Prize in Physiology or Medicine 1909\n",
      "The Nobel Prize in Literature 1909\n",
      "The Nobel Peace Prize 1909\n",
      "The Nobel Prize in Physics 1908\n",
      "The Nobel Prize in Chemistry 1908\n",
      "The Nobel Prize in Physiology or Medicine 1908\n",
      "The Nobel Prize in Literature 1908\n",
      "The Nobel Peace Prize 1908\n",
      "The Nobel Prize in Physics 1907\n",
      "The Nobel Prize in Chemistry 1907\n",
      "The Nobel Prize in Physiology or Medicine 1907\n",
      "The Nobel Prize in Literature 1907\n",
      "The Nobel Peace Prize 1907\n",
      "The Nobel Prize in Physics 1906\n",
      "The Nobel Prize in Chemistry 1906\n",
      "The Nobel Prize in Physiology or Medicine 1906\n",
      "The Nobel Prize in Literature 1906\n",
      "The Nobel Peace Prize 1906\n",
      "The Nobel Prize in Physics 1905\n",
      "The Nobel Prize in Chemistry 1905\n",
      "The Nobel Prize in Physiology or Medicine 1905\n",
      "The Nobel Prize in Literature 1905\n",
      "The Nobel Peace Prize 1905\n",
      "The Nobel Prize in Physics 1904\n",
      "The Nobel Prize in Chemistry 1904\n",
      "The Nobel Prize in Physiology or Medicine 1904\n",
      "The Nobel Prize in Literature 1904\n",
      "The Nobel Peace Prize 1904\n",
      "The Nobel Prize in Physics 1903\n",
      "The Nobel Prize in Chemistry 1903\n",
      "The Nobel Prize in Physiology or Medicine 1903\n",
      "The Nobel Prize in Literature 1903\n",
      "The Nobel Peace Prize 1903\n",
      "The Nobel Prize in Physics 1902\n",
      "The Nobel Prize in Chemistry 1902\n",
      "The Nobel Prize in Physiology or Medicine 1902\n",
      "The Nobel Prize in Literature 1902\n",
      "The Nobel Peace Prize 1902\n",
      "The Nobel Prize in Physics 1901\n",
      "The Nobel Prize in Chemistry 1901\n",
      "The Nobel Prize in Physiology or Medicine 1901\n",
      "The Nobel Prize in Literature 1901\n",
      "The Nobel Peace Prize 1901\n"
     ]
    }
   ],
   "source": [
    "for i in entry.select('h3 a'):\n",
    "    print(i.text)"
   ]
  },
  {
   "cell_type": "markdown",
   "metadata": {},
   "source": [
    "**Now try to separate the title from the year**"
   ]
  },
  {
   "cell_type": "code",
   "execution_count": 145,
   "metadata": {},
   "outputs": [
    {
     "name": "stdout",
     "output_type": "stream",
     "text": [
      "['The Nobel Prize in Physics', 'The Nobel Prize in Chemistry', 'The Nobel Prize in Physiology or Medicine', 'The Nobel Prize in Literature', 'The Nobel Peace Prize', 'The Sveriges Riksbank Prize in Economic Sciences in Memory of Alfred Nobel']\n"
     ]
    }
   ],
   "source": [
    "def get_award_title(award_node):\n",
    "    # Your code here\n",
    "    title = []\n",
    "    for i in award_node:\n",
    "        if i is not None:\n",
    "            title.append(' '.join(i.split(' ')[:-1]))\n",
    "    return list(dict.fromkeys(title))\n",
    "\n",
    "print(get_award_title(tny)[:10])"
   ]
  },
  {
   "cell_type": "code",
   "execution_count": 127,
   "metadata": {},
   "outputs": [
    {
     "data": {
      "text/plain": [
       "['2019',\n",
       " '2018',\n",
       " '2017',\n",
       " '2016',\n",
       " '2015',\n",
       " '2014',\n",
       " '2013',\n",
       " '2012',\n",
       " '2011',\n",
       " '2010']"
      ]
     },
     "execution_count": 127,
     "metadata": {},
     "output_type": "execute_result"
    }
   ],
   "source": [
    "def get_award_year(award_node):\n",
    "    # Your code here\n",
    "    year = []\n",
    "    for i in award_node:\n",
    "        year.append(''.join(i.split(' ')[-1]))\n",
    "    return list(dict.fromkeys(year))\n",
    "get_award_year(tny)[:10]"
   ]
  },
  {
   "cell_type": "markdown",
   "metadata": {},
   "source": [
    "**Make a list of titles for all awards**"
   ]
  },
  {
   "cell_type": "code",
   "execution_count": 129,
   "metadata": {},
   "outputs": [
    {
     "data": {
      "text/plain": [
       "['The Nobel Prize in Physics',\n",
       " 'The Nobel Prize in Chemistry',\n",
       " 'The Nobel Prize in Physiology or Medicine',\n",
       " 'The Nobel Prize in Literature',\n",
       " 'The Nobel Peace Prize',\n",
       " 'The Sveriges Riksbank Prize in Economic Sciences in Memory of Alfred Nobel']"
      ]
     },
     "execution_count": 129,
     "metadata": {},
     "output_type": "execute_result"
    }
   ],
   "source": [
    "# Your code here\n",
    "titles = get_award_title(tny)\n",
    "titles"
   ]
  },
  {
   "cell_type": "markdown",
   "metadata": {},
   "source": [
    "**Make a list of dictionaries of the title and year for all awards.**"
   ]
  },
  {
   "cell_type": "code",
   "execution_count": 131,
   "metadata": {},
   "outputs": [
    {
     "data": {
      "text/plain": [
       "{'2019': ['The Nobel Prize in Physics',\n",
       "  'The Nobel Prize in Chemistry',\n",
       "  'The Nobel Prize in Physiology or Medicine',\n",
       "  'The Nobel Prize in Literature',\n",
       "  'The Nobel Peace Prize',\n",
       "  'The Sveriges Riksbank Prize in Economic Sciences in Memory of Alfred Nobel'],\n",
       " '2018': ['The Nobel Prize in Physics',\n",
       "  'The Nobel Prize in Chemistry',\n",
       "  'The Nobel Prize in Physiology or Medicine',\n",
       "  'The Nobel Prize in Literature',\n",
       "  'The Nobel Peace Prize',\n",
       "  'The Sveriges Riksbank Prize in Economic Sciences in Memory of Alfred Nobel'],\n",
       " '2017': ['The Nobel Prize in Physics',\n",
       "  'The Nobel Prize in Chemistry',\n",
       "  'The Nobel Prize in Physiology or Medicine',\n",
       "  'The Nobel Prize in Literature',\n",
       "  'The Nobel Peace Prize',\n",
       "  'The Sveriges Riksbank Prize in Economic Sciences in Memory of Alfred Nobel'],\n",
       " '2016': ['The Nobel Prize in Physics',\n",
       "  'The Nobel Prize in Chemistry',\n",
       "  'The Nobel Prize in Physiology or Medicine',\n",
       "  'The Nobel Prize in Literature',\n",
       "  'The Nobel Peace Prize',\n",
       "  'The Sveriges Riksbank Prize in Economic Sciences in Memory of Alfred Nobel'],\n",
       " '2015': ['The Nobel Prize in Physics',\n",
       "  'The Nobel Prize in Chemistry',\n",
       "  'The Nobel Prize in Physiology or Medicine',\n",
       "  'The Nobel Prize in Literature',\n",
       "  'The Nobel Peace Prize',\n",
       "  'The Sveriges Riksbank Prize in Economic Sciences in Memory of Alfred Nobel'],\n",
       " '2014': ['The Nobel Prize in Physics',\n",
       "  'The Nobel Prize in Chemistry',\n",
       "  'The Nobel Prize in Physiology or Medicine',\n",
       "  'The Nobel Prize in Literature',\n",
       "  'The Nobel Peace Prize',\n",
       "  'The Sveriges Riksbank Prize in Economic Sciences in Memory of Alfred Nobel'],\n",
       " '2013': ['The Nobel Prize in Physics',\n",
       "  'The Nobel Prize in Chemistry',\n",
       "  'The Nobel Prize in Physiology or Medicine',\n",
       "  'The Nobel Prize in Literature',\n",
       "  'The Nobel Peace Prize',\n",
       "  'The Sveriges Riksbank Prize in Economic Sciences in Memory of Alfred Nobel'],\n",
       " '2012': ['The Nobel Prize in Physics',\n",
       "  'The Nobel Prize in Chemistry',\n",
       "  'The Nobel Prize in Physiology or Medicine',\n",
       "  'The Nobel Prize in Literature',\n",
       "  'The Nobel Peace Prize',\n",
       "  'The Sveriges Riksbank Prize in Economic Sciences in Memory of Alfred Nobel'],\n",
       " '2011': ['The Nobel Prize in Physics',\n",
       "  'The Nobel Prize in Chemistry',\n",
       "  'The Nobel Prize in Physiology or Medicine',\n",
       "  'The Nobel Prize in Literature',\n",
       "  'The Nobel Peace Prize',\n",
       "  'The Sveriges Riksbank Prize in Economic Sciences in Memory of Alfred Nobel'],\n",
       " '2010': ['The Nobel Prize in Physics',\n",
       "  'The Nobel Prize in Chemistry',\n",
       "  'The Nobel Prize in Physiology or Medicine',\n",
       "  'The Nobel Prize in Literature',\n",
       "  'The Nobel Peace Prize',\n",
       "  'The Sveriges Riksbank Prize in Economic Sciences in Memory of Alfred Nobel'],\n",
       " '2009': ['The Nobel Prize in Physics',\n",
       "  'The Nobel Prize in Chemistry',\n",
       "  'The Nobel Prize in Physiology or Medicine',\n",
       "  'The Nobel Prize in Literature',\n",
       "  'The Nobel Peace Prize',\n",
       "  'The Sveriges Riksbank Prize in Economic Sciences in Memory of Alfred Nobel'],\n",
       " '2008': ['The Nobel Prize in Physics',\n",
       "  'The Nobel Prize in Chemistry',\n",
       "  'The Nobel Prize in Physiology or Medicine',\n",
       "  'The Nobel Prize in Literature',\n",
       "  'The Nobel Peace Prize',\n",
       "  'The Sveriges Riksbank Prize in Economic Sciences in Memory of Alfred Nobel'],\n",
       " '2007': ['The Nobel Prize in Physics',\n",
       "  'The Nobel Prize in Chemistry',\n",
       "  'The Nobel Prize in Physiology or Medicine',\n",
       "  'The Nobel Prize in Literature',\n",
       "  'The Nobel Peace Prize',\n",
       "  'The Sveriges Riksbank Prize in Economic Sciences in Memory of Alfred Nobel'],\n",
       " '2006': ['The Nobel Prize in Physics',\n",
       "  'The Nobel Prize in Chemistry',\n",
       "  'The Nobel Prize in Physiology or Medicine',\n",
       "  'The Nobel Prize in Literature',\n",
       "  'The Nobel Peace Prize',\n",
       "  'The Sveriges Riksbank Prize in Economic Sciences in Memory of Alfred Nobel'],\n",
       " '2005': ['The Nobel Prize in Physics',\n",
       "  'The Nobel Prize in Chemistry',\n",
       "  'The Nobel Prize in Physiology or Medicine',\n",
       "  'The Nobel Prize in Literature',\n",
       "  'The Nobel Peace Prize',\n",
       "  'The Sveriges Riksbank Prize in Economic Sciences in Memory of Alfred Nobel'],\n",
       " '2004': ['The Nobel Prize in Physics',\n",
       "  'The Nobel Prize in Chemistry',\n",
       "  'The Nobel Prize in Physiology or Medicine',\n",
       "  'The Nobel Prize in Literature',\n",
       "  'The Nobel Peace Prize',\n",
       "  'The Sveriges Riksbank Prize in Economic Sciences in Memory of Alfred Nobel'],\n",
       " '2003': ['The Nobel Prize in Physics',\n",
       "  'The Nobel Prize in Chemistry',\n",
       "  'The Nobel Prize in Physiology or Medicine',\n",
       "  'The Nobel Prize in Literature',\n",
       "  'The Nobel Peace Prize',\n",
       "  'The Sveriges Riksbank Prize in Economic Sciences in Memory of Alfred Nobel'],\n",
       " '2002': ['The Nobel Prize in Physics',\n",
       "  'The Nobel Prize in Chemistry',\n",
       "  'The Nobel Prize in Physiology or Medicine',\n",
       "  'The Nobel Prize in Literature',\n",
       "  'The Nobel Peace Prize',\n",
       "  'The Sveriges Riksbank Prize in Economic Sciences in Memory of Alfred Nobel'],\n",
       " '2001': ['The Nobel Prize in Physics',\n",
       "  'The Nobel Prize in Chemistry',\n",
       "  'The Nobel Prize in Physiology or Medicine',\n",
       "  'The Nobel Prize in Literature',\n",
       "  'The Nobel Peace Prize',\n",
       "  'The Sveriges Riksbank Prize in Economic Sciences in Memory of Alfred Nobel'],\n",
       " '2000': ['The Nobel Prize in Physics',\n",
       "  'The Nobel Prize in Chemistry',\n",
       "  'The Nobel Prize in Physiology or Medicine',\n",
       "  'The Nobel Prize in Literature',\n",
       "  'The Nobel Peace Prize',\n",
       "  'The Sveriges Riksbank Prize in Economic Sciences in Memory of Alfred Nobel'],\n",
       " '1999': ['The Nobel Prize in Physics',\n",
       "  'The Nobel Prize in Chemistry',\n",
       "  'The Nobel Prize in Physiology or Medicine',\n",
       "  'The Nobel Prize in Literature',\n",
       "  'The Nobel Peace Prize',\n",
       "  'The Sveriges Riksbank Prize in Economic Sciences in Memory of Alfred Nobel'],\n",
       " '1998': ['The Nobel Prize in Physics',\n",
       "  'The Nobel Prize in Chemistry',\n",
       "  'The Nobel Prize in Physiology or Medicine',\n",
       "  'The Nobel Prize in Literature',\n",
       "  'The Nobel Peace Prize',\n",
       "  'The Sveriges Riksbank Prize in Economic Sciences in Memory of Alfred Nobel'],\n",
       " '1997': ['The Nobel Prize in Physics',\n",
       "  'The Nobel Prize in Chemistry',\n",
       "  'The Nobel Prize in Physiology or Medicine',\n",
       "  'The Nobel Prize in Literature',\n",
       "  'The Nobel Peace Prize',\n",
       "  'The Sveriges Riksbank Prize in Economic Sciences in Memory of Alfred Nobel'],\n",
       " '1996': ['The Nobel Prize in Physics',\n",
       "  'The Nobel Prize in Chemistry',\n",
       "  'The Nobel Prize in Physiology or Medicine',\n",
       "  'The Nobel Prize in Literature',\n",
       "  'The Nobel Peace Prize',\n",
       "  'The Sveriges Riksbank Prize in Economic Sciences in Memory of Alfred Nobel'],\n",
       " '1995': ['The Nobel Prize in Physics',\n",
       "  'The Nobel Prize in Chemistry',\n",
       "  'The Nobel Prize in Physiology or Medicine',\n",
       "  'The Nobel Prize in Literature',\n",
       "  'The Nobel Peace Prize',\n",
       "  'The Sveriges Riksbank Prize in Economic Sciences in Memory of Alfred Nobel'],\n",
       " '1994': ['The Nobel Prize in Physics',\n",
       "  'The Nobel Prize in Chemistry',\n",
       "  'The Nobel Prize in Physiology or Medicine',\n",
       "  'The Nobel Prize in Literature',\n",
       "  'The Nobel Peace Prize',\n",
       "  'The Sveriges Riksbank Prize in Economic Sciences in Memory of Alfred Nobel'],\n",
       " '1993': ['The Nobel Prize in Physics',\n",
       "  'The Nobel Prize in Chemistry',\n",
       "  'The Nobel Prize in Physiology or Medicine',\n",
       "  'The Nobel Prize in Literature',\n",
       "  'The Nobel Peace Prize',\n",
       "  'The Sveriges Riksbank Prize in Economic Sciences in Memory of Alfred Nobel'],\n",
       " '1992': ['The Nobel Prize in Physics',\n",
       "  'The Nobel Prize in Chemistry',\n",
       "  'The Nobel Prize in Physiology or Medicine',\n",
       "  'The Nobel Prize in Literature',\n",
       "  'The Nobel Peace Prize',\n",
       "  'The Sveriges Riksbank Prize in Economic Sciences in Memory of Alfred Nobel'],\n",
       " '1991': ['The Nobel Prize in Physics',\n",
       "  'The Nobel Prize in Chemistry',\n",
       "  'The Nobel Prize in Physiology or Medicine',\n",
       "  'The Nobel Prize in Literature',\n",
       "  'The Nobel Peace Prize',\n",
       "  'The Sveriges Riksbank Prize in Economic Sciences in Memory of Alfred Nobel'],\n",
       " '1990': ['The Nobel Prize in Physics',\n",
       "  'The Nobel Prize in Chemistry',\n",
       "  'The Nobel Prize in Physiology or Medicine',\n",
       "  'The Nobel Prize in Literature',\n",
       "  'The Nobel Peace Prize',\n",
       "  'The Sveriges Riksbank Prize in Economic Sciences in Memory of Alfred Nobel'],\n",
       " '1989': ['The Nobel Prize in Physics',\n",
       "  'The Nobel Prize in Chemistry',\n",
       "  'The Nobel Prize in Physiology or Medicine',\n",
       "  'The Nobel Prize in Literature',\n",
       "  'The Nobel Peace Prize',\n",
       "  'The Sveriges Riksbank Prize in Economic Sciences in Memory of Alfred Nobel'],\n",
       " '1988': ['The Nobel Prize in Physics',\n",
       "  'The Nobel Prize in Chemistry',\n",
       "  'The Nobel Prize in Physiology or Medicine',\n",
       "  'The Nobel Prize in Literature',\n",
       "  'The Nobel Peace Prize',\n",
       "  'The Sveriges Riksbank Prize in Economic Sciences in Memory of Alfred Nobel'],\n",
       " '1987': ['The Nobel Prize in Physics',\n",
       "  'The Nobel Prize in Chemistry',\n",
       "  'The Nobel Prize in Physiology or Medicine',\n",
       "  'The Nobel Prize in Literature',\n",
       "  'The Nobel Peace Prize',\n",
       "  'The Sveriges Riksbank Prize in Economic Sciences in Memory of Alfred Nobel'],\n",
       " '1986': ['The Nobel Prize in Physics',\n",
       "  'The Nobel Prize in Chemistry',\n",
       "  'The Nobel Prize in Physiology or Medicine',\n",
       "  'The Nobel Prize in Literature',\n",
       "  'The Nobel Peace Prize',\n",
       "  'The Sveriges Riksbank Prize in Economic Sciences in Memory of Alfred Nobel'],\n",
       " '1985': ['The Nobel Prize in Physics',\n",
       "  'The Nobel Prize in Chemistry',\n",
       "  'The Nobel Prize in Physiology or Medicine',\n",
       "  'The Nobel Prize in Literature',\n",
       "  'The Nobel Peace Prize',\n",
       "  'The Sveriges Riksbank Prize in Economic Sciences in Memory of Alfred Nobel'],\n",
       " '1984': ['The Nobel Prize in Physics',\n",
       "  'The Nobel Prize in Chemistry',\n",
       "  'The Nobel Prize in Physiology or Medicine',\n",
       "  'The Nobel Prize in Literature',\n",
       "  'The Nobel Peace Prize',\n",
       "  'The Sveriges Riksbank Prize in Economic Sciences in Memory of Alfred Nobel'],\n",
       " '1983': ['The Nobel Prize in Physics',\n",
       "  'The Nobel Prize in Chemistry',\n",
       "  'The Nobel Prize in Physiology or Medicine',\n",
       "  'The Nobel Prize in Literature',\n",
       "  'The Nobel Peace Prize',\n",
       "  'The Sveriges Riksbank Prize in Economic Sciences in Memory of Alfred Nobel'],\n",
       " '1982': ['The Nobel Prize in Physics',\n",
       "  'The Nobel Prize in Chemistry',\n",
       "  'The Nobel Prize in Physiology or Medicine',\n",
       "  'The Nobel Prize in Literature',\n",
       "  'The Nobel Peace Prize',\n",
       "  'The Sveriges Riksbank Prize in Economic Sciences in Memory of Alfred Nobel'],\n",
       " '1981': ['The Nobel Prize in Physics',\n",
       "  'The Nobel Prize in Chemistry',\n",
       "  'The Nobel Prize in Physiology or Medicine',\n",
       "  'The Nobel Prize in Literature',\n",
       "  'The Nobel Peace Prize',\n",
       "  'The Sveriges Riksbank Prize in Economic Sciences in Memory of Alfred Nobel'],\n",
       " '1980': ['The Nobel Prize in Physics',\n",
       "  'The Nobel Prize in Chemistry',\n",
       "  'The Nobel Prize in Physiology or Medicine',\n",
       "  'The Nobel Prize in Literature',\n",
       "  'The Nobel Peace Prize',\n",
       "  'The Sveriges Riksbank Prize in Economic Sciences in Memory of Alfred Nobel'],\n",
       " '1979': ['The Nobel Prize in Physics',\n",
       "  'The Nobel Prize in Chemistry',\n",
       "  'The Nobel Prize in Physiology or Medicine',\n",
       "  'The Nobel Prize in Literature',\n",
       "  'The Nobel Peace Prize',\n",
       "  'The Sveriges Riksbank Prize in Economic Sciences in Memory of Alfred Nobel'],\n",
       " '1978': ['The Nobel Prize in Physics',\n",
       "  'The Nobel Prize in Chemistry',\n",
       "  'The Nobel Prize in Physiology or Medicine',\n",
       "  'The Nobel Prize in Literature',\n",
       "  'The Nobel Peace Prize',\n",
       "  'The Sveriges Riksbank Prize in Economic Sciences in Memory of Alfred Nobel'],\n",
       " '1977': ['The Nobel Prize in Physics',\n",
       "  'The Nobel Prize in Chemistry',\n",
       "  'The Nobel Prize in Physiology or Medicine',\n",
       "  'The Nobel Prize in Literature',\n",
       "  'The Nobel Peace Prize',\n",
       "  'The Sveriges Riksbank Prize in Economic Sciences in Memory of Alfred Nobel'],\n",
       " '1976': ['The Nobel Prize in Physics',\n",
       "  'The Nobel Prize in Chemistry',\n",
       "  'The Nobel Prize in Physiology or Medicine',\n",
       "  'The Nobel Prize in Literature',\n",
       "  'The Nobel Peace Prize',\n",
       "  'The Sveriges Riksbank Prize in Economic Sciences in Memory of Alfred Nobel'],\n",
       " '1975': ['The Nobel Prize in Physics',\n",
       "  'The Nobel Prize in Chemistry',\n",
       "  'The Nobel Prize in Physiology or Medicine',\n",
       "  'The Nobel Prize in Literature',\n",
       "  'The Nobel Peace Prize',\n",
       "  'The Sveriges Riksbank Prize in Economic Sciences in Memory of Alfred Nobel'],\n",
       " '1974': ['The Nobel Prize in Physics',\n",
       "  'The Nobel Prize in Chemistry',\n",
       "  'The Nobel Prize in Physiology or Medicine',\n",
       "  'The Nobel Prize in Literature',\n",
       "  'The Nobel Peace Prize',\n",
       "  'The Sveriges Riksbank Prize in Economic Sciences in Memory of Alfred Nobel'],\n",
       " '1973': ['The Nobel Prize in Physics',\n",
       "  'The Nobel Prize in Chemistry',\n",
       "  'The Nobel Prize in Physiology or Medicine',\n",
       "  'The Nobel Prize in Literature',\n",
       "  'The Nobel Peace Prize',\n",
       "  'The Sveriges Riksbank Prize in Economic Sciences in Memory of Alfred Nobel'],\n",
       " '1972': ['The Nobel Prize in Physics',\n",
       "  'The Nobel Prize in Chemistry',\n",
       "  'The Nobel Prize in Physiology or Medicine',\n",
       "  'The Nobel Prize in Literature',\n",
       "  'The Nobel Peace Prize',\n",
       "  'The Sveriges Riksbank Prize in Economic Sciences in Memory of Alfred Nobel'],\n",
       " '1971': ['The Nobel Prize in Physics',\n",
       "  'The Nobel Prize in Chemistry',\n",
       "  'The Nobel Prize in Physiology or Medicine',\n",
       "  'The Nobel Prize in Literature',\n",
       "  'The Nobel Peace Prize',\n",
       "  'The Sveriges Riksbank Prize in Economic Sciences in Memory of Alfred Nobel'],\n",
       " '1970': ['The Nobel Prize in Physics',\n",
       "  'The Nobel Prize in Chemistry',\n",
       "  'The Nobel Prize in Physiology or Medicine',\n",
       "  'The Nobel Prize in Literature',\n",
       "  'The Nobel Peace Prize',\n",
       "  'The Sveriges Riksbank Prize in Economic Sciences in Memory of Alfred Nobel'],\n",
       " '1969': ['The Nobel Prize in Physics',\n",
       "  'The Nobel Prize in Chemistry',\n",
       "  'The Nobel Prize in Physiology or Medicine',\n",
       "  'The Nobel Prize in Literature',\n",
       "  'The Nobel Peace Prize',\n",
       "  'The Sveriges Riksbank Prize in Economic Sciences in Memory of Alfred Nobel'],\n",
       " '1968': ['The Nobel Prize in Physics',\n",
       "  'The Nobel Prize in Chemistry',\n",
       "  'The Nobel Prize in Physiology or Medicine',\n",
       "  'The Nobel Prize in Literature',\n",
       "  'The Nobel Peace Prize',\n",
       "  'The Sveriges Riksbank Prize in Economic Sciences in Memory of Alfred Nobel'],\n",
       " '1967': ['The Nobel Prize in Physics',\n",
       "  'The Nobel Prize in Chemistry',\n",
       "  'The Nobel Prize in Physiology or Medicine',\n",
       "  'The Nobel Prize in Literature',\n",
       "  'The Nobel Peace Prize',\n",
       "  'The Sveriges Riksbank Prize in Economic Sciences in Memory of Alfred Nobel'],\n",
       " '1966': ['The Nobel Prize in Physics',\n",
       "  'The Nobel Prize in Chemistry',\n",
       "  'The Nobel Prize in Physiology or Medicine',\n",
       "  'The Nobel Prize in Literature',\n",
       "  'The Nobel Peace Prize',\n",
       "  'The Sveriges Riksbank Prize in Economic Sciences in Memory of Alfred Nobel'],\n",
       " '1965': ['The Nobel Prize in Physics',\n",
       "  'The Nobel Prize in Chemistry',\n",
       "  'The Nobel Prize in Physiology or Medicine',\n",
       "  'The Nobel Prize in Literature',\n",
       "  'The Nobel Peace Prize',\n",
       "  'The Sveriges Riksbank Prize in Economic Sciences in Memory of Alfred Nobel'],\n",
       " '1964': ['The Nobel Prize in Physics',\n",
       "  'The Nobel Prize in Chemistry',\n",
       "  'The Nobel Prize in Physiology or Medicine',\n",
       "  'The Nobel Prize in Literature',\n",
       "  'The Nobel Peace Prize',\n",
       "  'The Sveriges Riksbank Prize in Economic Sciences in Memory of Alfred Nobel'],\n",
       " '1963': ['The Nobel Prize in Physics',\n",
       "  'The Nobel Prize in Chemistry',\n",
       "  'The Nobel Prize in Physiology or Medicine',\n",
       "  'The Nobel Prize in Literature',\n",
       "  'The Nobel Peace Prize',\n",
       "  'The Sveriges Riksbank Prize in Economic Sciences in Memory of Alfred Nobel'],\n",
       " '1962': ['The Nobel Prize in Physics',\n",
       "  'The Nobel Prize in Chemistry',\n",
       "  'The Nobel Prize in Physiology or Medicine',\n",
       "  'The Nobel Prize in Literature',\n",
       "  'The Nobel Peace Prize',\n",
       "  'The Sveriges Riksbank Prize in Economic Sciences in Memory of Alfred Nobel'],\n",
       " '1961': ['The Nobel Prize in Physics',\n",
       "  'The Nobel Prize in Chemistry',\n",
       "  'The Nobel Prize in Physiology or Medicine',\n",
       "  'The Nobel Prize in Literature',\n",
       "  'The Nobel Peace Prize',\n",
       "  'The Sveriges Riksbank Prize in Economic Sciences in Memory of Alfred Nobel'],\n",
       " '1960': ['The Nobel Prize in Physics',\n",
       "  'The Nobel Prize in Chemistry',\n",
       "  'The Nobel Prize in Physiology or Medicine',\n",
       "  'The Nobel Prize in Literature',\n",
       "  'The Nobel Peace Prize',\n",
       "  'The Sveriges Riksbank Prize in Economic Sciences in Memory of Alfred Nobel'],\n",
       " '1959': ['The Nobel Prize in Physics',\n",
       "  'The Nobel Prize in Chemistry',\n",
       "  'The Nobel Prize in Physiology or Medicine',\n",
       "  'The Nobel Prize in Literature',\n",
       "  'The Nobel Peace Prize',\n",
       "  'The Sveriges Riksbank Prize in Economic Sciences in Memory of Alfred Nobel'],\n",
       " '1958': ['The Nobel Prize in Physics',\n",
       "  'The Nobel Prize in Chemistry',\n",
       "  'The Nobel Prize in Physiology or Medicine',\n",
       "  'The Nobel Prize in Literature',\n",
       "  'The Nobel Peace Prize',\n",
       "  'The Sveriges Riksbank Prize in Economic Sciences in Memory of Alfred Nobel'],\n",
       " '1957': ['The Nobel Prize in Physics',\n",
       "  'The Nobel Prize in Chemistry',\n",
       "  'The Nobel Prize in Physiology or Medicine',\n",
       "  'The Nobel Prize in Literature',\n",
       "  'The Nobel Peace Prize',\n",
       "  'The Sveriges Riksbank Prize in Economic Sciences in Memory of Alfred Nobel'],\n",
       " '1956': ['The Nobel Prize in Physics',\n",
       "  'The Nobel Prize in Chemistry',\n",
       "  'The Nobel Prize in Physiology or Medicine',\n",
       "  'The Nobel Prize in Literature',\n",
       "  'The Nobel Peace Prize',\n",
       "  'The Sveriges Riksbank Prize in Economic Sciences in Memory of Alfred Nobel'],\n",
       " '1955': ['The Nobel Prize in Physics',\n",
       "  'The Nobel Prize in Chemistry',\n",
       "  'The Nobel Prize in Physiology or Medicine',\n",
       "  'The Nobel Prize in Literature',\n",
       "  'The Nobel Peace Prize',\n",
       "  'The Sveriges Riksbank Prize in Economic Sciences in Memory of Alfred Nobel'],\n",
       " '1954': ['The Nobel Prize in Physics',\n",
       "  'The Nobel Prize in Chemistry',\n",
       "  'The Nobel Prize in Physiology or Medicine',\n",
       "  'The Nobel Prize in Literature',\n",
       "  'The Nobel Peace Prize',\n",
       "  'The Sveriges Riksbank Prize in Economic Sciences in Memory of Alfred Nobel'],\n",
       " '1953': ['The Nobel Prize in Physics',\n",
       "  'The Nobel Prize in Chemistry',\n",
       "  'The Nobel Prize in Physiology or Medicine',\n",
       "  'The Nobel Prize in Literature',\n",
       "  'The Nobel Peace Prize',\n",
       "  'The Sveriges Riksbank Prize in Economic Sciences in Memory of Alfred Nobel'],\n",
       " '1952': ['The Nobel Prize in Physics',\n",
       "  'The Nobel Prize in Chemistry',\n",
       "  'The Nobel Prize in Physiology or Medicine',\n",
       "  'The Nobel Prize in Literature',\n",
       "  'The Nobel Peace Prize',\n",
       "  'The Sveriges Riksbank Prize in Economic Sciences in Memory of Alfred Nobel'],\n",
       " '1951': ['The Nobel Prize in Physics',\n",
       "  'The Nobel Prize in Chemistry',\n",
       "  'The Nobel Prize in Physiology or Medicine',\n",
       "  'The Nobel Prize in Literature',\n",
       "  'The Nobel Peace Prize',\n",
       "  'The Sveriges Riksbank Prize in Economic Sciences in Memory of Alfred Nobel'],\n",
       " '1950': ['The Nobel Prize in Physics',\n",
       "  'The Nobel Prize in Chemistry',\n",
       "  'The Nobel Prize in Physiology or Medicine',\n",
       "  'The Nobel Prize in Literature',\n",
       "  'The Nobel Peace Prize',\n",
       "  'The Sveriges Riksbank Prize in Economic Sciences in Memory of Alfred Nobel'],\n",
       " '1949': ['The Nobel Prize in Physics',\n",
       "  'The Nobel Prize in Chemistry',\n",
       "  'The Nobel Prize in Physiology or Medicine',\n",
       "  'The Nobel Prize in Literature',\n",
       "  'The Nobel Peace Prize',\n",
       "  'The Sveriges Riksbank Prize in Economic Sciences in Memory of Alfred Nobel'],\n",
       " '1948': ['The Nobel Prize in Physics',\n",
       "  'The Nobel Prize in Chemistry',\n",
       "  'The Nobel Prize in Physiology or Medicine',\n",
       "  'The Nobel Prize in Literature',\n",
       "  'The Nobel Peace Prize',\n",
       "  'The Sveriges Riksbank Prize in Economic Sciences in Memory of Alfred Nobel'],\n",
       " '1947': ['The Nobel Prize in Physics',\n",
       "  'The Nobel Prize in Chemistry',\n",
       "  'The Nobel Prize in Physiology or Medicine',\n",
       "  'The Nobel Prize in Literature',\n",
       "  'The Nobel Peace Prize',\n",
       "  'The Sveriges Riksbank Prize in Economic Sciences in Memory of Alfred Nobel'],\n",
       " '1946': ['The Nobel Prize in Physics',\n",
       "  'The Nobel Prize in Chemistry',\n",
       "  'The Nobel Prize in Physiology or Medicine',\n",
       "  'The Nobel Prize in Literature',\n",
       "  'The Nobel Peace Prize',\n",
       "  'The Sveriges Riksbank Prize in Economic Sciences in Memory of Alfred Nobel'],\n",
       " '1945': ['The Nobel Prize in Physics',\n",
       "  'The Nobel Prize in Chemistry',\n",
       "  'The Nobel Prize in Physiology or Medicine',\n",
       "  'The Nobel Prize in Literature',\n",
       "  'The Nobel Peace Prize',\n",
       "  'The Sveriges Riksbank Prize in Economic Sciences in Memory of Alfred Nobel'],\n",
       " '1944': ['The Nobel Prize in Physics',\n",
       "  'The Nobel Prize in Chemistry',\n",
       "  'The Nobel Prize in Physiology or Medicine',\n",
       "  'The Nobel Prize in Literature',\n",
       "  'The Nobel Peace Prize',\n",
       "  'The Sveriges Riksbank Prize in Economic Sciences in Memory of Alfred Nobel'],\n",
       " '1943': ['The Nobel Prize in Physics',\n",
       "  'The Nobel Prize in Chemistry',\n",
       "  'The Nobel Prize in Physiology or Medicine',\n",
       "  'The Nobel Prize in Literature',\n",
       "  'The Nobel Peace Prize',\n",
       "  'The Sveriges Riksbank Prize in Economic Sciences in Memory of Alfred Nobel'],\n",
       " '1942': ['The Nobel Prize in Physics',\n",
       "  'The Nobel Prize in Chemistry',\n",
       "  'The Nobel Prize in Physiology or Medicine',\n",
       "  'The Nobel Prize in Literature',\n",
       "  'The Nobel Peace Prize',\n",
       "  'The Sveriges Riksbank Prize in Economic Sciences in Memory of Alfred Nobel'],\n",
       " '1941': ['The Nobel Prize in Physics',\n",
       "  'The Nobel Prize in Chemistry',\n",
       "  'The Nobel Prize in Physiology or Medicine',\n",
       "  'The Nobel Prize in Literature',\n",
       "  'The Nobel Peace Prize',\n",
       "  'The Sveriges Riksbank Prize in Economic Sciences in Memory of Alfred Nobel'],\n",
       " '1940': ['The Nobel Prize in Physics',\n",
       "  'The Nobel Prize in Chemistry',\n",
       "  'The Nobel Prize in Physiology or Medicine',\n",
       "  'The Nobel Prize in Literature',\n",
       "  'The Nobel Peace Prize',\n",
       "  'The Sveriges Riksbank Prize in Economic Sciences in Memory of Alfred Nobel'],\n",
       " '1939': ['The Nobel Prize in Physics',\n",
       "  'The Nobel Prize in Chemistry',\n",
       "  'The Nobel Prize in Physiology or Medicine',\n",
       "  'The Nobel Prize in Literature',\n",
       "  'The Nobel Peace Prize',\n",
       "  'The Sveriges Riksbank Prize in Economic Sciences in Memory of Alfred Nobel'],\n",
       " '1938': ['The Nobel Prize in Physics',\n",
       "  'The Nobel Prize in Chemistry',\n",
       "  'The Nobel Prize in Physiology or Medicine',\n",
       "  'The Nobel Prize in Literature',\n",
       "  'The Nobel Peace Prize',\n",
       "  'The Sveriges Riksbank Prize in Economic Sciences in Memory of Alfred Nobel'],\n",
       " '1937': ['The Nobel Prize in Physics',\n",
       "  'The Nobel Prize in Chemistry',\n",
       "  'The Nobel Prize in Physiology or Medicine',\n",
       "  'The Nobel Prize in Literature',\n",
       "  'The Nobel Peace Prize',\n",
       "  'The Sveriges Riksbank Prize in Economic Sciences in Memory of Alfred Nobel'],\n",
       " '1936': ['The Nobel Prize in Physics',\n",
       "  'The Nobel Prize in Chemistry',\n",
       "  'The Nobel Prize in Physiology or Medicine',\n",
       "  'The Nobel Prize in Literature',\n",
       "  'The Nobel Peace Prize',\n",
       "  'The Sveriges Riksbank Prize in Economic Sciences in Memory of Alfred Nobel'],\n",
       " '1935': ['The Nobel Prize in Physics',\n",
       "  'The Nobel Prize in Chemistry',\n",
       "  'The Nobel Prize in Physiology or Medicine',\n",
       "  'The Nobel Prize in Literature',\n",
       "  'The Nobel Peace Prize',\n",
       "  'The Sveriges Riksbank Prize in Economic Sciences in Memory of Alfred Nobel'],\n",
       " '1934': ['The Nobel Prize in Physics',\n",
       "  'The Nobel Prize in Chemistry',\n",
       "  'The Nobel Prize in Physiology or Medicine',\n",
       "  'The Nobel Prize in Literature',\n",
       "  'The Nobel Peace Prize',\n",
       "  'The Sveriges Riksbank Prize in Economic Sciences in Memory of Alfred Nobel'],\n",
       " '1933': ['The Nobel Prize in Physics',\n",
       "  'The Nobel Prize in Chemistry',\n",
       "  'The Nobel Prize in Physiology or Medicine',\n",
       "  'The Nobel Prize in Literature',\n",
       "  'The Nobel Peace Prize',\n",
       "  'The Sveriges Riksbank Prize in Economic Sciences in Memory of Alfred Nobel'],\n",
       " '1932': ['The Nobel Prize in Physics',\n",
       "  'The Nobel Prize in Chemistry',\n",
       "  'The Nobel Prize in Physiology or Medicine',\n",
       "  'The Nobel Prize in Literature',\n",
       "  'The Nobel Peace Prize',\n",
       "  'The Sveriges Riksbank Prize in Economic Sciences in Memory of Alfred Nobel'],\n",
       " '1931': ['The Nobel Prize in Physics',\n",
       "  'The Nobel Prize in Chemistry',\n",
       "  'The Nobel Prize in Physiology or Medicine',\n",
       "  'The Nobel Prize in Literature',\n",
       "  'The Nobel Peace Prize',\n",
       "  'The Sveriges Riksbank Prize in Economic Sciences in Memory of Alfred Nobel'],\n",
       " '1930': ['The Nobel Prize in Physics',\n",
       "  'The Nobel Prize in Chemistry',\n",
       "  'The Nobel Prize in Physiology or Medicine',\n",
       "  'The Nobel Prize in Literature',\n",
       "  'The Nobel Peace Prize',\n",
       "  'The Sveriges Riksbank Prize in Economic Sciences in Memory of Alfred Nobel'],\n",
       " '1929': ['The Nobel Prize in Physics',\n",
       "  'The Nobel Prize in Chemistry',\n",
       "  'The Nobel Prize in Physiology or Medicine',\n",
       "  'The Nobel Prize in Literature',\n",
       "  'The Nobel Peace Prize',\n",
       "  'The Sveriges Riksbank Prize in Economic Sciences in Memory of Alfred Nobel'],\n",
       " '1928': ['The Nobel Prize in Physics',\n",
       "  'The Nobel Prize in Chemistry',\n",
       "  'The Nobel Prize in Physiology or Medicine',\n",
       "  'The Nobel Prize in Literature',\n",
       "  'The Nobel Peace Prize',\n",
       "  'The Sveriges Riksbank Prize in Economic Sciences in Memory of Alfred Nobel'],\n",
       " '1927': ['The Nobel Prize in Physics',\n",
       "  'The Nobel Prize in Chemistry',\n",
       "  'The Nobel Prize in Physiology or Medicine',\n",
       "  'The Nobel Prize in Literature',\n",
       "  'The Nobel Peace Prize',\n",
       "  'The Sveriges Riksbank Prize in Economic Sciences in Memory of Alfred Nobel'],\n",
       " '1926': ['The Nobel Prize in Physics',\n",
       "  'The Nobel Prize in Chemistry',\n",
       "  'The Nobel Prize in Physiology or Medicine',\n",
       "  'The Nobel Prize in Literature',\n",
       "  'The Nobel Peace Prize',\n",
       "  'The Sveriges Riksbank Prize in Economic Sciences in Memory of Alfred Nobel'],\n",
       " '1925': ['The Nobel Prize in Physics',\n",
       "  'The Nobel Prize in Chemistry',\n",
       "  'The Nobel Prize in Physiology or Medicine',\n",
       "  'The Nobel Prize in Literature',\n",
       "  'The Nobel Peace Prize',\n",
       "  'The Sveriges Riksbank Prize in Economic Sciences in Memory of Alfred Nobel'],\n",
       " '1924': ['The Nobel Prize in Physics',\n",
       "  'The Nobel Prize in Chemistry',\n",
       "  'The Nobel Prize in Physiology or Medicine',\n",
       "  'The Nobel Prize in Literature',\n",
       "  'The Nobel Peace Prize',\n",
       "  'The Sveriges Riksbank Prize in Economic Sciences in Memory of Alfred Nobel'],\n",
       " '1923': ['The Nobel Prize in Physics',\n",
       "  'The Nobel Prize in Chemistry',\n",
       "  'The Nobel Prize in Physiology or Medicine',\n",
       "  'The Nobel Prize in Literature',\n",
       "  'The Nobel Peace Prize',\n",
       "  'The Sveriges Riksbank Prize in Economic Sciences in Memory of Alfred Nobel'],\n",
       " '1922': ['The Nobel Prize in Physics',\n",
       "  'The Nobel Prize in Chemistry',\n",
       "  'The Nobel Prize in Physiology or Medicine',\n",
       "  'The Nobel Prize in Literature',\n",
       "  'The Nobel Peace Prize',\n",
       "  'The Sveriges Riksbank Prize in Economic Sciences in Memory of Alfred Nobel'],\n",
       " '1921': ['The Nobel Prize in Physics',\n",
       "  'The Nobel Prize in Chemistry',\n",
       "  'The Nobel Prize in Physiology or Medicine',\n",
       "  'The Nobel Prize in Literature',\n",
       "  'The Nobel Peace Prize',\n",
       "  'The Sveriges Riksbank Prize in Economic Sciences in Memory of Alfred Nobel'],\n",
       " '1920': ['The Nobel Prize in Physics',\n",
       "  'The Nobel Prize in Chemistry',\n",
       "  'The Nobel Prize in Physiology or Medicine',\n",
       "  'The Nobel Prize in Literature',\n",
       "  'The Nobel Peace Prize',\n",
       "  'The Sveriges Riksbank Prize in Economic Sciences in Memory of Alfred Nobel'],\n",
       " '1919': ['The Nobel Prize in Physics',\n",
       "  'The Nobel Prize in Chemistry',\n",
       "  'The Nobel Prize in Physiology or Medicine',\n",
       "  'The Nobel Prize in Literature',\n",
       "  'The Nobel Peace Prize',\n",
       "  'The Sveriges Riksbank Prize in Economic Sciences in Memory of Alfred Nobel'],\n",
       " '1918': ['The Nobel Prize in Physics',\n",
       "  'The Nobel Prize in Chemistry',\n",
       "  'The Nobel Prize in Physiology or Medicine',\n",
       "  'The Nobel Prize in Literature',\n",
       "  'The Nobel Peace Prize',\n",
       "  'The Sveriges Riksbank Prize in Economic Sciences in Memory of Alfred Nobel'],\n",
       " '1917': ['The Nobel Prize in Physics',\n",
       "  'The Nobel Prize in Chemistry',\n",
       "  'The Nobel Prize in Physiology or Medicine',\n",
       "  'The Nobel Prize in Literature',\n",
       "  'The Nobel Peace Prize',\n",
       "  'The Sveriges Riksbank Prize in Economic Sciences in Memory of Alfred Nobel'],\n",
       " '1916': ['The Nobel Prize in Physics',\n",
       "  'The Nobel Prize in Chemistry',\n",
       "  'The Nobel Prize in Physiology or Medicine',\n",
       "  'The Nobel Prize in Literature',\n",
       "  'The Nobel Peace Prize',\n",
       "  'The Sveriges Riksbank Prize in Economic Sciences in Memory of Alfred Nobel'],\n",
       " '1915': ['The Nobel Prize in Physics',\n",
       "  'The Nobel Prize in Chemistry',\n",
       "  'The Nobel Prize in Physiology or Medicine',\n",
       "  'The Nobel Prize in Literature',\n",
       "  'The Nobel Peace Prize',\n",
       "  'The Sveriges Riksbank Prize in Economic Sciences in Memory of Alfred Nobel'],\n",
       " '1914': ['The Nobel Prize in Physics',\n",
       "  'The Nobel Prize in Chemistry',\n",
       "  'The Nobel Prize in Physiology or Medicine',\n",
       "  'The Nobel Prize in Literature',\n",
       "  'The Nobel Peace Prize',\n",
       "  'The Sveriges Riksbank Prize in Economic Sciences in Memory of Alfred Nobel'],\n",
       " '1913': ['The Nobel Prize in Physics',\n",
       "  'The Nobel Prize in Chemistry',\n",
       "  'The Nobel Prize in Physiology or Medicine',\n",
       "  'The Nobel Prize in Literature',\n",
       "  'The Nobel Peace Prize',\n",
       "  'The Sveriges Riksbank Prize in Economic Sciences in Memory of Alfred Nobel'],\n",
       " '1912': ['The Nobel Prize in Physics',\n",
       "  'The Nobel Prize in Chemistry',\n",
       "  'The Nobel Prize in Physiology or Medicine',\n",
       "  'The Nobel Prize in Literature',\n",
       "  'The Nobel Peace Prize',\n",
       "  'The Sveriges Riksbank Prize in Economic Sciences in Memory of Alfred Nobel'],\n",
       " '1911': ['The Nobel Prize in Physics',\n",
       "  'The Nobel Prize in Chemistry',\n",
       "  'The Nobel Prize in Physiology or Medicine',\n",
       "  'The Nobel Prize in Literature',\n",
       "  'The Nobel Peace Prize',\n",
       "  'The Sveriges Riksbank Prize in Economic Sciences in Memory of Alfred Nobel'],\n",
       " '1910': ['The Nobel Prize in Physics',\n",
       "  'The Nobel Prize in Chemistry',\n",
       "  'The Nobel Prize in Physiology or Medicine',\n",
       "  'The Nobel Prize in Literature',\n",
       "  'The Nobel Peace Prize',\n",
       "  'The Sveriges Riksbank Prize in Economic Sciences in Memory of Alfred Nobel'],\n",
       " '1909': ['The Nobel Prize in Physics',\n",
       "  'The Nobel Prize in Chemistry',\n",
       "  'The Nobel Prize in Physiology or Medicine',\n",
       "  'The Nobel Prize in Literature',\n",
       "  'The Nobel Peace Prize',\n",
       "  'The Sveriges Riksbank Prize in Economic Sciences in Memory of Alfred Nobel'],\n",
       " '1908': ['The Nobel Prize in Physics',\n",
       "  'The Nobel Prize in Chemistry',\n",
       "  'The Nobel Prize in Physiology or Medicine',\n",
       "  'The Nobel Prize in Literature',\n",
       "  'The Nobel Peace Prize',\n",
       "  'The Sveriges Riksbank Prize in Economic Sciences in Memory of Alfred Nobel'],\n",
       " '1907': ['The Nobel Prize in Physics',\n",
       "  'The Nobel Prize in Chemistry',\n",
       "  'The Nobel Prize in Physiology or Medicine',\n",
       "  'The Nobel Prize in Literature',\n",
       "  'The Nobel Peace Prize',\n",
       "  'The Sveriges Riksbank Prize in Economic Sciences in Memory of Alfred Nobel'],\n",
       " '1906': ['The Nobel Prize in Physics',\n",
       "  'The Nobel Prize in Chemistry',\n",
       "  'The Nobel Prize in Physiology or Medicine',\n",
       "  'The Nobel Prize in Literature',\n",
       "  'The Nobel Peace Prize',\n",
       "  'The Sveriges Riksbank Prize in Economic Sciences in Memory of Alfred Nobel'],\n",
       " '1905': ['The Nobel Prize in Physics',\n",
       "  'The Nobel Prize in Chemistry',\n",
       "  'The Nobel Prize in Physiology or Medicine',\n",
       "  'The Nobel Prize in Literature',\n",
       "  'The Nobel Peace Prize',\n",
       "  'The Sveriges Riksbank Prize in Economic Sciences in Memory of Alfred Nobel'],\n",
       " '1904': ['The Nobel Prize in Physics',\n",
       "  'The Nobel Prize in Chemistry',\n",
       "  'The Nobel Prize in Physiology or Medicine',\n",
       "  'The Nobel Prize in Literature',\n",
       "  'The Nobel Peace Prize',\n",
       "  'The Sveriges Riksbank Prize in Economic Sciences in Memory of Alfred Nobel'],\n",
       " '1903': ['The Nobel Prize in Physics',\n",
       "  'The Nobel Prize in Chemistry',\n",
       "  'The Nobel Prize in Physiology or Medicine',\n",
       "  'The Nobel Prize in Literature',\n",
       "  'The Nobel Peace Prize',\n",
       "  'The Sveriges Riksbank Prize in Economic Sciences in Memory of Alfred Nobel'],\n",
       " '1902': ['The Nobel Prize in Physics',\n",
       "  'The Nobel Prize in Chemistry',\n",
       "  'The Nobel Prize in Physiology or Medicine',\n",
       "  'The Nobel Prize in Literature',\n",
       "  'The Nobel Peace Prize',\n",
       "  'The Sveriges Riksbank Prize in Economic Sciences in Memory of Alfred Nobel'],\n",
       " '1901': ['The Nobel Prize in Physics',\n",
       "  'The Nobel Prize in Chemistry',\n",
       "  'The Nobel Prize in Physiology or Medicine',\n",
       "  'The Nobel Prize in Literature',\n",
       "  'The Nobel Peace Prize',\n",
       "  'The Sveriges Riksbank Prize in Economic Sciences in Memory of Alfred Nobel']}"
      ]
     },
     "execution_count": 131,
     "metadata": {},
     "output_type": "execute_result"
    }
   ],
   "source": [
    "# Your code here\n",
    "dict = {}\n",
    "for i in title:\n",
    "    dict[i]= titles\n",
    "dict"
   ]
  },
  {
   "cell_type": "markdown",
   "metadata": {},
   "source": [
    "## Back together..."
   ]
  },
  {
   "cell_type": "markdown",
   "metadata": {},
   "source": [
    "### The recipients\n",
    "**how do we handle there being more than one?**"
   ]
  },
  {
   "cell_type": "code",
   "execution_count": 132,
   "metadata": {},
   "outputs": [
    {
     "data": {
      "text/plain": [
       "[]"
      ]
     },
     "execution_count": 132,
     "metadata": {},
     "output_type": "execute_result"
    }
   ],
   "source": [
    "[node.text for node in award_node.select('h6 a')]"
   ]
  },
  {
   "cell_type": "markdown",
   "metadata": {},
   "source": [
    "We'll leave them as a list for now, to return to this later."
   ]
  },
  {
   "cell_type": "markdown",
   "metadata": {},
   "source": [
    "### The prize \"motivation\""
   ]
  },
  {
   "cell_type": "code",
   "execution_count": 133,
   "metadata": {},
   "outputs": [
    {
     "data": {
      "text/plain": [
       "'Herbert A. Hauptman and Jerome Karle\\n“for their outstanding achievements in the development of direct methods for the determination of crystal structures”'"
      ]
     },
     "execution_count": 133,
     "metadata": {},
     "output_type": "execute_result"
    }
   ],
   "source": [
    "award_node.select_one('p').text\n"
   ]
  },
  {
   "cell_type": "markdown",
   "metadata": {},
   "source": [
    "What are those weird quotes at either end?"
   ]
  },
  {
   "cell_type": "code",
   "execution_count": 103,
   "metadata": {},
   "outputs": [
    {
     "name": "stdout",
     "output_type": "stream",
     "text": [
      "\"Herbert A. Hauptman and Jerome Karle\\n\\u201cfor their outstanding achievements in the development of direct methods for the determination of crystal structures\\u201d\"\n"
     ]
    }
   ],
   "source": [
    "print(json.dumps(award_node.select_one('p').text))"
   ]
  },
  {
   "cell_type": "markdown",
   "metadata": {},
   "source": [
    "Ah, they're \"smart quotes\". Let's strip them off."
   ]
  },
  {
   "cell_type": "code",
   "execution_count": 104,
   "metadata": {},
   "outputs": [
    {
     "data": {
      "text/plain": [
       "'Herbert A. Hauptman and Jerome Karle\\n“for their outstanding achievements in the development of direct methods for the determination of crystal structures'"
      ]
     },
     "execution_count": 104,
     "metadata": {},
     "output_type": "execute_result"
    }
   ],
   "source": [
    "award_node.select_one('p').text.lstrip('\\u201c').rstrip('\\u201d')"
   ]
  },
  {
   "cell_type": "code",
   "execution_count": 139,
   "metadata": {},
   "outputs": [],
   "source": [
    "def get_award_motivation(award_node):\n",
    "    award_node = award_node.select_one('p')\n",
    "    if not award_node:\n",
    "        return None\n",
    "    return award_node.text.lstrip('\\u201c').rstrip('\\u201d')"
   ]
  },
  {
   "cell_type": "code",
   "execution_count": 140,
   "metadata": {},
   "outputs": [],
   "source": [
    "def get_recipients(award_node):\n",
    "    return [node.text for node in award_node.select('h6 a')]"
   ]
  },
  {
   "cell_type": "markdown",
   "metadata": {},
   "source": [
    "Now let's get all of the awards."
   ]
  },
  {
   "cell_type": "code",
   "execution_count": 147,
   "metadata": {},
   "outputs": [
    {
     "ename": "TypeError",
     "evalue": "'NoneType' object is not callable",
     "output_type": "error",
     "traceback": [
      "\u001b[1;31m---------------------------------------------------------------------------\u001b[0m",
      "\u001b[1;31mTypeError\u001b[0m                                 Traceback (most recent call last)",
      "\u001b[1;32m<ipython-input-147-70902bddd971>\u001b[0m in \u001b[0;36m<module>\u001b[1;34m\u001b[0m\n\u001b[0;32m      3\u001b[0m     \u001b[1;31m#recipients = get_recipients(award_node)\u001b[0m\u001b[1;33m\u001b[0m\u001b[1;33m\u001b[0m\u001b[1;33m\u001b[0m\u001b[0m\n\u001b[0;32m      4\u001b[0m     awards.append(dict(\n\u001b[1;32m----> 5\u001b[1;33m         \u001b[0mtitle\u001b[0m \u001b[1;33m=\u001b[0m \u001b[0mget_award_title\u001b[0m\u001b[1;33m(\u001b[0m\u001b[0maward_node\u001b[0m\u001b[1;33m)\u001b[0m\u001b[1;33m,\u001b[0m\u001b[1;33m\u001b[0m\u001b[1;33m\u001b[0m\u001b[0m\n\u001b[0m\u001b[0;32m      6\u001b[0m         \u001b[0myear\u001b[0m \u001b[1;33m=\u001b[0m \u001b[0mget_award_year\u001b[0m\u001b[1;33m(\u001b[0m\u001b[0maward_node\u001b[0m\u001b[1;33m)\u001b[0m\u001b[1;33m,\u001b[0m\u001b[1;33m\u001b[0m\u001b[1;33m\u001b[0m\u001b[0m\n\u001b[0;32m      7\u001b[0m         \u001b[0mrecipients\u001b[0m \u001b[1;33m=\u001b[0m \u001b[0mget_recipients\u001b[0m\u001b[1;33m(\u001b[0m\u001b[0maward_node\u001b[0m\u001b[1;33m)\u001b[0m\u001b[1;33m,\u001b[0m\u001b[1;33m\u001b[0m\u001b[1;33m\u001b[0m\u001b[0m\n",
      "\u001b[1;32m<ipython-input-145-2135d76c01d3>\u001b[0m in \u001b[0;36mget_award_title\u001b[1;34m(award_node)\u001b[0m\n\u001b[0;32m      4\u001b[0m     \u001b[1;32mfor\u001b[0m \u001b[0mi\u001b[0m \u001b[1;32min\u001b[0m \u001b[0maward_node\u001b[0m\u001b[1;33m:\u001b[0m\u001b[1;33m\u001b[0m\u001b[1;33m\u001b[0m\u001b[0m\n\u001b[0;32m      5\u001b[0m         \u001b[1;32mif\u001b[0m \u001b[0mi\u001b[0m \u001b[1;32mis\u001b[0m \u001b[1;32mnot\u001b[0m \u001b[1;32mNone\u001b[0m\u001b[1;33m:\u001b[0m\u001b[1;33m\u001b[0m\u001b[1;33m\u001b[0m\u001b[0m\n\u001b[1;32m----> 6\u001b[1;33m             \u001b[0mtitle\u001b[0m\u001b[1;33m.\u001b[0m\u001b[0mappend\u001b[0m\u001b[1;33m(\u001b[0m\u001b[1;34m' '\u001b[0m\u001b[1;33m.\u001b[0m\u001b[0mjoin\u001b[0m\u001b[1;33m(\u001b[0m\u001b[0mi\u001b[0m\u001b[1;33m.\u001b[0m\u001b[0msplit\u001b[0m\u001b[1;33m(\u001b[0m\u001b[1;34m' '\u001b[0m\u001b[1;33m)\u001b[0m\u001b[1;33m[\u001b[0m\u001b[1;33m:\u001b[0m\u001b[1;33m-\u001b[0m\u001b[1;36m1\u001b[0m\u001b[1;33m]\u001b[0m\u001b[1;33m)\u001b[0m\u001b[1;33m)\u001b[0m\u001b[1;33m\u001b[0m\u001b[1;33m\u001b[0m\u001b[0m\n\u001b[0m\u001b[0;32m      7\u001b[0m     \u001b[1;32mreturn\u001b[0m \u001b[0mlist\u001b[0m\u001b[1;33m(\u001b[0m\u001b[0mdict\u001b[0m\u001b[1;33m.\u001b[0m\u001b[0mfromkeys\u001b[0m\u001b[1;33m(\u001b[0m\u001b[0mtitle\u001b[0m\u001b[1;33m)\u001b[0m\u001b[1;33m)\u001b[0m\u001b[1;33m\u001b[0m\u001b[1;33m\u001b[0m\u001b[0m\n\u001b[0;32m      8\u001b[0m \u001b[1;33m\u001b[0m\u001b[0m\n",
      "\u001b[1;31mTypeError\u001b[0m: 'NoneType' object is not callable"
     ]
    }
   ],
   "source": [
    "awards = []\n",
    "for award_node in soup.select('.by_year'):\n",
    "    #recipients = get_recipients(award_node)\n",
    "    awards.append(dict(\n",
    "        title = get_award_title(award_node),\n",
    "        year = get_award_year(award_node),\n",
    "        recipients = get_recipients(award_node),\n",
    "        num_recipients = len(recipients),\n",
    "        motivation = get_award_motivation(award_node)\n",
    "    ))"
   ]
  },
  {
   "cell_type": "code",
   "execution_count": 148,
   "metadata": {},
   "outputs": [],
   "source": [
    "df_awards_raw = pd.DataFrame(awards)"
   ]
  },
  {
   "cell_type": "markdown",
   "metadata": {},
   "source": [
    "### Some quick EDA."
   ]
  },
  {
   "cell_type": "code",
   "execution_count": 149,
   "metadata": {},
   "outputs": [
    {
     "name": "stdout",
     "output_type": "stream",
     "text": [
      "<class 'pandas.core.frame.DataFrame'>\n",
      "Index: 0 entries\n",
      "Empty DataFrame"
     ]
    }
   ],
   "source": [
    "df_awards_raw.info()"
   ]
  },
  {
   "cell_type": "code",
   "execution_count": null,
   "metadata": {},
   "outputs": [],
   "source": [
    "df_awards_raw.year.min()"
   ]
  },
  {
   "cell_type": "markdown",
   "metadata": {},
   "source": [
    "**Hm, that's suspiciously close to a round number. Are we missing some?**"
   ]
  },
  {
   "cell_type": "markdown",
   "metadata": {},
   "source": [
    "**How about recipients?**"
   ]
  },
  {
   "cell_type": "code",
   "execution_count": null,
   "metadata": {},
   "outputs": [],
   "source": [
    "df_awards_raw.num_recipients.value_counts()"
   ]
  },
  {
   "cell_type": "markdown",
   "metadata": {},
   "source": [
    "Why do some have no recipients?"
   ]
  },
  {
   "cell_type": "code",
   "execution_count": null,
   "metadata": {},
   "outputs": [],
   "source": [
    "df_awards_raw[df_awards_raw.num_recipients == 0]"
   ]
  },
  {
   "cell_type": "markdown",
   "metadata": {},
   "source": [
    "Ok: 2018 awards have no recipients because they haven't been awarded yet. Some past years lack awards because there actually were none that year. Let's keep only meaningful data:"
   ]
  },
  {
   "cell_type": "code",
   "execution_count": null,
   "metadata": {},
   "outputs": [],
   "source": [
    "df_awards_past = df_awards_raw[df_awards_raw.year != 2018]\n",
    "df_awards_past.info()"
   ]
  },
  {
   "cell_type": "markdown",
   "metadata": {},
   "source": [
    "Hm, `motivation` has a different number of items... why?"
   ]
  },
  {
   "cell_type": "code",
   "execution_count": null,
   "metadata": {},
   "outputs": [],
   "source": [
    "df_awards_past[df_awards_past.motivation.isnull()].head()"
   ]
  },
  {
   "cell_type": "markdown",
   "metadata": {},
   "source": [
    "Looks like it's fine that those motivations were missing."
   ]
  },
  {
   "cell_type": "markdown",
   "metadata": {},
   "source": [
    "## Individual Activity 2"
   ]
  },
  {
   "cell_type": "markdown",
   "metadata": {},
   "source": [
    "** Sort the awards by year. **"
   ]
  },
  {
   "cell_type": "code",
   "execution_count": null,
   "metadata": {},
   "outputs": [],
   "source": [
    "# Your code here"
   ]
  },
  {
   "cell_type": "markdown",
   "metadata": {},
   "source": [
    "### How many awards of each type were given?"
   ]
  },
  {
   "cell_type": "code",
   "execution_count": null,
   "metadata": {},
   "outputs": [],
   "source": [
    "# Your code here"
   ]
  },
  {
   "cell_type": "markdown",
   "metadata": {},
   "source": [
    "### When was each award first given?"
   ]
  },
  {
   "cell_type": "code",
   "execution_count": null,
   "metadata": {},
   "outputs": [],
   "source": [
    "# Your code here"
   ]
  },
  {
   "cell_type": "markdown",
   "metadata": {},
   "source": [
    "## Back together..."
   ]
  },
  {
   "cell_type": "markdown",
   "metadata": {},
   "source": [
    "## How many recipients per year?"
   ]
  },
  {
   "cell_type": "markdown",
   "metadata": {},
   "source": [
    "Let's include the years with missing awards; if we were to analyze further, we'd have to decide whether to include them."
   ]
  },
  {
   "cell_type": "code",
   "execution_count": null,
   "metadata": {},
   "outputs": [],
   "source": [
    "df_awards_past.plot.scatter(x='year', y='num_recipients')"
   ]
  },
  {
   "cell_type": "markdown",
   "metadata": {},
   "source": [
    "It's hard to see a trend when there are multiple observations per year (**why?**).\n",
    "\n",
    "Let's try looking at *mean* num recipients by year."
   ]
  },
  {
   "cell_type": "code",
   "execution_count": null,
   "metadata": {},
   "outputs": [],
   "source": [
    "df_awards_past.groupby('year').num_recipients.mean().plot.line()"
   ]
  },
  {
   "cell_type": "markdown",
   "metadata": {},
   "source": [
    "A complete answer to our question would involve fitting regression models, breaking down by kind of award, etc... here's a quick preview."
   ]
  },
  {
   "cell_type": "code",
   "execution_count": null,
   "metadata": {},
   "outputs": [],
   "source": [
    "sns.lmplot(x='year', y='num_recipients', hue='title', data=df_awards_past)#, scatter_kws=dict(alpha=.1))\n",
    "plt.xlim(1900, 2018);"
   ]
  },
  {
   "cell_type": "markdown",
   "metadata": {},
   "source": [
    "## Did anyone recive the Nobel Prize more than once?"
   ]
  },
  {
   "cell_type": "markdown",
   "metadata": {},
   "source": [
    "Here's where it bites us that our original DataFrame isn't \"tidy\". Let's make a tidy one."
   ]
  },
  {
   "cell_type": "code",
   "execution_count": null,
   "metadata": {},
   "outputs": [],
   "source": [
    "tidy_awards = []\n",
    "for idx, row in df_awards_past.iterrows():\n",
    "    for recipient in row['recipients']:\n",
    "        tidy_awards.append(dict(\n",
    "            recipient=recipient,\n",
    "            year=row['year']))\n",
    "tidy_awards_df = pd.DataFrame(tidy_awards)\n",
    "tidy_awards_df.info()"
   ]
  },
  {
   "cell_type": "code",
   "execution_count": null,
   "metadata": {},
   "outputs": [],
   "source": [
    "tidy_awards_df.recipient.value_counts()"
   ]
  },
  {
   "cell_type": "markdown",
   "metadata": {},
   "source": [
    "## Other structured data formats: JSON and CSV"
   ]
  },
  {
   "cell_type": "markdown",
   "metadata": {},
   "source": [
    "### CSV\n",
    "CSV is the lowest-common-denominator data format."
   ]
  },
  {
   "cell_type": "code",
   "execution_count": null,
   "metadata": {},
   "outputs": [],
   "source": [
    "df_awards_past.to_csv('awards.csv', index=False)\n",
    "with open('awards.csv', 'r') as f:\n",
    "    print(f.read()[:1000])"
   ]
  },
  {
   "cell_type": "markdown",
   "metadata": {},
   "source": [
    "It loses some info, though: the recipients list became a plain string."
   ]
  },
  {
   "cell_type": "code",
   "execution_count": null,
   "metadata": {},
   "outputs": [],
   "source": [
    "pd.read_csv('awards.csv').recipients.iloc[20]"
   ]
  },
  {
   "cell_type": "markdown",
   "metadata": {},
   "source": [
    "### JSON"
   ]
  },
  {
   "cell_type": "markdown",
   "metadata": {},
   "source": [
    "JSON preserves structured data, but fewer data-science tools speak it."
   ]
  },
  {
   "cell_type": "code",
   "execution_count": null,
   "metadata": {},
   "outputs": [],
   "source": [
    "df_awards_past.to_json('awards.json', orient='records')\n",
    "\n",
    "with open('awards.json', 'r') as f:\n",
    "    print(f.read()[:1000])"
   ]
  },
  {
   "cell_type": "markdown",
   "metadata": {},
   "source": [
    "Lists are preserved."
   ]
  },
  {
   "cell_type": "code",
   "execution_count": null,
   "metadata": {},
   "outputs": [],
   "source": [
    "pd.read_json('awards.json').recipients.iloc[20]"
   ]
  },
  {
   "cell_type": "markdown",
   "metadata": {},
   "source": [
    "### Pickle\n",
    "For temporary data storage in a single version of Python, `pickle`s will preserve your data even more faithfully. But don't count on it for exchanging data (in fact, don't try to load untrusted `pickle`s -- they can run arbitrary code!)."
   ]
  },
  {
   "cell_type": "code",
   "execution_count": null,
   "metadata": {},
   "outputs": [],
   "source": [
    "df_awards_past.to_pickle('awards.pkl', protocol=0)\n",
    "with open('awards.pkl', 'r', encoding='latin1') as f:\n",
    "    print(f.read()[:200])"
   ]
  },
  {
   "cell_type": "markdown",
   "metadata": {},
   "source": [
    "## Formatted data output"
   ]
  },
  {
   "cell_type": "markdown",
   "metadata": {},
   "source": [
    "Let's make a textual table of Physics laureates by year, earliest first:"
   ]
  },
  {
   "cell_type": "code",
   "execution_count": null,
   "metadata": {},
   "outputs": [],
   "source": [
    "for idx, row in df_awards_past.sort_values('year').iterrows():\n",
    "    if 'Physics' in row['title']:\n",
    "        print('{}: {}'.format(\n",
    "            row['year'],\n",
    "            ', '.join(row['recipients'])))\n"
   ]
  },
  {
   "cell_type": "markdown",
   "metadata": {},
   "source": [
    "---"
   ]
  }
 ],
 "metadata": {
  "kernelspec": {
   "display_name": "Python 3",
   "language": "python",
   "name": "python3"
  },
  "language_info": {
   "codemirror_mode": {
    "name": "ipython",
    "version": 3
   },
   "file_extension": ".py",
   "mimetype": "text/x-python",
   "name": "python",
   "nbconvert_exporter": "python",
   "pygments_lexer": "ipython3",
   "version": "3.7.4"
  }
 },
 "nbformat": 4,
 "nbformat_minor": 2
}
