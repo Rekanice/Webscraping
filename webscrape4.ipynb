{
 "cells": [
  {
   "cell_type": "markdown",
   "metadata": {},
   "source": [
    "This is based on CS109 Lab 2: Scrape the top 100 books & get their properties from their specific page.\n",
    "\n",
    "List: https://www.goodreads.com/book/show/2767052-the-hunger-games\n"
   ]
  },
  {
   "cell_type": "code",
   "execution_count": 1,
   "metadata": {},
   "outputs": [],
   "source": [
    "import pandas as pd\n",
    "import requests as req\n",
    "from bs4 import BeautifulSoup"
   ]
  },
  {
   "cell_type": "code",
   "execution_count": 19,
   "metadata": {},
   "outputs": [],
   "source": [
    "base_url = 'https://www.goodreads.com'\n",
    "list_page = '/list/show/1.Best_Books_Ever?page='\n",
    "\n",
    "list_html = req.get(base_url + list_page + str(1))\n",
    "\n",
    "soup = BeautifulSoup(list_html.text, 'html.parser')"
   ]
  },
  {
   "cell_type": "code",
   "execution_count": 15,
   "metadata": {},
   "outputs": [],
   "source": [
    "list_links = soup.find('div', id = 'all_votes').find_all('a', class_='bookTitle')\n",
    "\n",
    "links = []\n",
    "\n",
    "for i in list_links:\n",
    "    links.append(i.get('href'))"
   ]
  },
  {
   "cell_type": "code",
   "execution_count": 16,
   "metadata": {
    "scrolled": true
   },
   "outputs": [
    {
     "data": {
      "text/plain": [
       "['/book/show/2767052-the-hunger-games',\n",
       " '/book/show/2.Harry_Potter_and_the_Order_of_the_Phoenix',\n",
       " '/book/show/2657.To_Kill_a_Mockingbird',\n",
       " '/book/show/1885.Pride_and_Prejudice',\n",
       " '/book/show/41865.Twilight']"
      ]
     },
     "execution_count": 16,
     "metadata": {},
     "output_type": "execute_result"
    }
   ],
   "source": [
    "links[:5]"
   ]
  },
  {
   "cell_type": "code",
   "execution_count": 45,
   "metadata": {},
   "outputs": [],
   "source": [
    "title = []\n",
    "author = []\n",
    "genres = []\n",
    "stars = []\n",
    "ratings = []\n",
    "reviews = []"
   ]
  },
  {
   "cell_type": "code",
   "execution_count": 25,
   "metadata": {},
   "outputs": [
    {
     "data": {
      "text/plain": [
       "'Suzanne Collins'"
      ]
     },
     "execution_count": 25,
     "metadata": {},
     "output_type": "execute_result"
    }
   ],
   "source": [
    "each_book = req.get(base_url + links[0])\n",
    "book_soup = BeautifulSoup(each_book.text, 'html.parser')\n"
   ]
  },
  {
   "cell_type": "code",
   "execution_count": 26,
   "metadata": {},
   "outputs": [
    {
     "data": {
      "text/plain": [
       "'The Hunger Games'"
      ]
     },
     "execution_count": 26,
     "metadata": {},
     "output_type": "execute_result"
    }
   ],
   "source": [
    "book_soup.find('h1', id='bookTitle').get_text(strip=True)"
   ]
  },
  {
   "cell_type": "code",
   "execution_count": 27,
   "metadata": {},
   "outputs": [
    {
     "data": {
      "text/plain": [
       "'Suzanne Collins'"
      ]
     },
     "execution_count": 27,
     "metadata": {},
     "output_type": "execute_result"
    }
   ],
   "source": [
    "book_soup.find('span', itemprop='name').get_text(strip=True)"
   ]
  },
  {
   "cell_type": "code",
   "execution_count": 28,
   "metadata": {},
   "outputs": [
    {
     "data": {
      "text/plain": [
       "'4.33'"
      ]
     },
     "execution_count": 28,
     "metadata": {},
     "output_type": "execute_result"
    }
   ],
   "source": [
    "book_soup.find('span', itemprop='ratingValue').get_text(strip=True)"
   ]
  },
  {
   "cell_type": "code",
   "execution_count": 29,
   "metadata": {},
   "outputs": [
    {
     "data": {
      "text/plain": [
       "'6269458'"
      ]
     },
     "execution_count": 29,
     "metadata": {},
     "output_type": "execute_result"
    }
   ],
   "source": [
    "book_soup.find('meta', itemprop='ratingCount').get('content')"
   ]
  },
  {
   "cell_type": "code",
   "execution_count": 30,
   "metadata": {},
   "outputs": [
    {
     "data": {
      "text/plain": [
       "'170628'"
      ]
     },
     "execution_count": 30,
     "metadata": {},
     "output_type": "execute_result"
    }
   ],
   "source": [
    "book_soup.find('meta', itemprop='reviewCount').get('content')"
   ]
  },
  {
   "cell_type": "code",
   "execution_count": 37,
   "metadata": {},
   "outputs": [
    {
     "data": {
      "text/plain": [
       "['Young Adult',\n",
       " 'Fiction',\n",
       " 'Science Fiction',\n",
       " 'Dystopia',\n",
       " 'Fantasy',\n",
       " 'Romance',\n",
       " 'Adventure',\n",
       " 'Teen',\n",
       " 'Apocalyptic',\n",
       " 'Post Apocalyptic',\n",
       " 'Action']"
      ]
     },
     "execution_count": 37,
     "metadata": {},
     "output_type": "execute_result"
    }
   ],
   "source": [
    "for i in book_soup.find_all('a', class_=\"actionLinkLite bookPageGenreLink\"):\n",
    "    genres.append(i.get_text(strip=True))\n",
    "\n",
    "genres = list(dict.fromkeys(genres))\n",
    "genres"
   ]
  },
  {
   "cell_type": "code",
   "execution_count": 61,
   "metadata": {},
   "outputs": [],
   "source": [
    "title = []\n",
    "author = []\n",
    "genres = []\n",
    "stars = []\n",
    "ratings = []\n",
    "reviews = []\n",
    "\n",
    "for i in range(0,3):\n",
    "    each_book = req.get(base_url + links[i])\n",
    "    book_soup = BeautifulSoup(each_book.text, 'html.parser')\n",
    "    \n",
    "    title.append(book_soup.find('h1', id='bookTitle').get_text(strip=True))\n",
    "    author.append(book_soup.find('span', itemprop='name').get_text(strip=True))\n",
    "    stars.append(book_soup.find('span', itemprop='ratingValue').get_text(strip=True))\n",
    "    ratings.append(book_soup.find('meta', itemprop='ratingCount').get('content'))\n",
    "    reviews.append(book_soup.find('meta', itemprop='reviewCount').get('content'))\n",
    "    genre = []\n",
    "    for j in book_soup.find_all('a', class_=\"actionLinkLite bookPageGenreLink\"):\n",
    "        genre.append(j.get_text(strip=True))\n",
    "    genre = list(dict.fromkeys(genre))\n",
    "    #genres.append(genre)"
   ]
  },
  {
   "cell_type": "code",
   "execution_count": 62,
   "metadata": {},
   "outputs": [
    {
     "name": "stdout",
     "output_type": "stream",
     "text": [
      "3\n",
      "3\n",
      "3\n",
      "3\n",
      "3\n",
      "3\n"
     ]
    }
   ],
   "source": [
    "print(len(title))\n",
    "print(len(author))\n",
    "print(len(genres))\n",
    "print(len(stars))\n",
    "print(len(ratings)) \n",
    "print(len(reviews))"
   ]
  },
  {
   "cell_type": "code",
   "execution_count": 72,
   "metadata": {
    "scrolled": false
   },
   "outputs": [
    {
     "data": {
      "text/plain": [
       "[['Young Adult',\n",
       "  'Fiction',\n",
       "  'Science Fiction',\n",
       "  'Dystopia',\n",
       "  'Fantasy',\n",
       "  'Romance',\n",
       "  'Adventure',\n",
       "  'Teen',\n",
       "  'Apocalyptic',\n",
       "  'Post Apocalyptic',\n",
       "  'Action'],\n",
       " ['Fantasy', 'Young Adult', 'Fiction'],\n",
       " ['Classics',\n",
       "  'Fiction',\n",
       "  'Historical',\n",
       "  'Historical Fiction',\n",
       "  'Academic',\n",
       "  'School',\n",
       "  'Literature',\n",
       "  'Young Adult',\n",
       "  'Novels',\n",
       "  'Read For School',\n",
       "  'High School']]"
      ]
     },
     "execution_count": 72,
     "metadata": {},
     "output_type": "execute_result"
    }
   ],
   "source": [
    "genres"
   ]
  },
  {
   "cell_type": "code",
   "execution_count": 74,
   "metadata": {},
   "outputs": [
    {
     "data": {
      "text/plain": [
       "['Young Adult, Fiction, Science Fiction, Dystopia, Fantasy, Romance, Adventure, Teen, Apocalyptic, Post Apocalyptic, Action',\n",
       " 'Fantasy, Young Adult, Fiction',\n",
       " 'Classics, Fiction, Historical, Historical Fiction, Academic, School, Literature, Young Adult, Novels, Read For School, High School']"
      ]
     },
     "execution_count": 74,
     "metadata": {},
     "output_type": "execute_result"
    }
   ],
   "source": [
    "genre_strings = []\n",
    "for i in genres:\n",
    "    genre_strings.append(\", \".join(str(e) for e in i))\n",
    "    \n",
    "genre_strings"
   ]
  },
  {
   "cell_type": "code",
   "execution_count": 75,
   "metadata": {},
   "outputs": [
    {
     "data": {
      "text/html": [
       "<div>\n",
       "<style scoped>\n",
       "    .dataframe tbody tr th:only-of-type {\n",
       "        vertical-align: middle;\n",
       "    }\n",
       "\n",
       "    .dataframe tbody tr th {\n",
       "        vertical-align: top;\n",
       "    }\n",
       "\n",
       "    .dataframe thead th {\n",
       "        text-align: right;\n",
       "    }\n",
       "</style>\n",
       "<table border=\"1\" class=\"dataframe\">\n",
       "  <thead>\n",
       "    <tr style=\"text-align: right;\">\n",
       "      <th></th>\n",
       "      <th>title</th>\n",
       "      <th>author</th>\n",
       "      <th>genre</th>\n",
       "      <th>stars</th>\n",
       "      <th>ratings</th>\n",
       "      <th>reviews</th>\n",
       "    </tr>\n",
       "  </thead>\n",
       "  <tbody>\n",
       "    <tr>\n",
       "      <td>0</td>\n",
       "      <td>The Hunger Games</td>\n",
       "      <td>Suzanne Collins</td>\n",
       "      <td>Young Adult, Fiction, Science Fiction, Dystopi...</td>\n",
       "      <td>4.33</td>\n",
       "      <td>6269458</td>\n",
       "      <td>170628</td>\n",
       "    </tr>\n",
       "    <tr>\n",
       "      <td>1</td>\n",
       "      <td>Harry Potter and the Order of the Phoenix</td>\n",
       "      <td>J.K. Rowling</td>\n",
       "      <td>Fantasy, Young Adult, Fiction</td>\n",
       "      <td>4.50</td>\n",
       "      <td>2452694</td>\n",
       "      <td>41291</td>\n",
       "    </tr>\n",
       "    <tr>\n",
       "      <td>2</td>\n",
       "      <td>To Kill a Mockingbird</td>\n",
       "      <td>Harper Lee</td>\n",
       "      <td>Classics, Fiction, Historical, Historical Fict...</td>\n",
       "      <td>4.28</td>\n",
       "      <td>4411865</td>\n",
       "      <td>89868</td>\n",
       "    </tr>\n",
       "  </tbody>\n",
       "</table>\n",
       "</div>"
      ],
      "text/plain": [
       "                                       title           author  \\\n",
       "0                           The Hunger Games  Suzanne Collins   \n",
       "1  Harry Potter and the Order of the Phoenix     J.K. Rowling   \n",
       "2                      To Kill a Mockingbird       Harper Lee   \n",
       "\n",
       "                                               genre stars  ratings reviews  \n",
       "0  Young Adult, Fiction, Science Fiction, Dystopi...  4.33  6269458  170628  \n",
       "1                      Fantasy, Young Adult, Fiction  4.50  2452694   41291  \n",
       "2  Classics, Fiction, Historical, Historical Fict...  4.28  4411865   89868  "
      ]
     },
     "execution_count": 75,
     "metadata": {},
     "output_type": "execute_result"
    }
   ],
   "source": [
    "pd.DataFrame({\n",
    "    'title':title,\n",
    "    'author':author,\n",
    "    'genre': genre_strings,\n",
    "    'stars': stars,\n",
    "    'ratings':ratings,\n",
    "    'reviews':reviews\n",
    "})"
   ]
  }
 ],
 "metadata": {
  "kernelspec": {
   "display_name": "Python 3",
   "language": "python",
   "name": "python3"
  },
  "language_info": {
   "codemirror_mode": {
    "name": "ipython",
    "version": 3
   },
   "file_extension": ".py",
   "mimetype": "text/x-python",
   "name": "python",
   "nbconvert_exporter": "python",
   "pygments_lexer": "ipython3",
   "version": "3.7.4"
  }
 },
 "nbformat": 4,
 "nbformat_minor": 2
}
